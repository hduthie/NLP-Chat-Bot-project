{
 "cells": [
  {
   "cell_type": "code",
   "execution_count": 1,
   "metadata": {},
   "outputs": [
    {
     "name": "stdout",
     "output_type": "stream",
     "text": [
      "Requirement already satisfied: datasets in c:\\users\\neusv\\onedrive\\documentos\\emai upf\\natural lenguage interaction\\project chatbot\\nlp-chat-bot-project\\env\\lib\\site-packages (2.14.6)\n",
      "Requirement already satisfied: numpy>=1.17 in c:\\users\\neusv\\onedrive\\documentos\\emai upf\\natural lenguage interaction\\project chatbot\\nlp-chat-bot-project\\env\\lib\\site-packages (from datasets) (1.26.0)\n",
      "Requirement already satisfied: pyarrow>=8.0.0 in c:\\users\\neusv\\onedrive\\documentos\\emai upf\\natural lenguage interaction\\project chatbot\\nlp-chat-bot-project\\env\\lib\\site-packages (from datasets) (14.0.0)\n",
      "Requirement already satisfied: dill<0.3.8,>=0.3.0 in c:\\users\\neusv\\onedrive\\documentos\\emai upf\\natural lenguage interaction\\project chatbot\\nlp-chat-bot-project\\env\\lib\\site-packages (from datasets) (0.3.7)\n",
      "Requirement already satisfied: pandas in c:\\users\\neusv\\onedrive\\documentos\\emai upf\\natural lenguage interaction\\project chatbot\\nlp-chat-bot-project\\env\\lib\\site-packages (from datasets) (2.1.1)\n",
      "Requirement already satisfied: requests>=2.19.0 in c:\\users\\neusv\\onedrive\\documentos\\emai upf\\natural lenguage interaction\\project chatbot\\nlp-chat-bot-project\\env\\lib\\site-packages (from datasets) (2.31.0)\n",
      "Requirement already satisfied: tqdm>=4.62.1 in c:\\users\\neusv\\onedrive\\documentos\\emai upf\\natural lenguage interaction\\project chatbot\\nlp-chat-bot-project\\env\\lib\\site-packages (from datasets) (4.66.1)\n",
      "Requirement already satisfied: xxhash in c:\\users\\neusv\\onedrive\\documentos\\emai upf\\natural lenguage interaction\\project chatbot\\nlp-chat-bot-project\\env\\lib\\site-packages (from datasets) (3.4.1)\n",
      "Requirement already satisfied: multiprocess in c:\\users\\neusv\\onedrive\\documentos\\emai upf\\natural lenguage interaction\\project chatbot\\nlp-chat-bot-project\\env\\lib\\site-packages (from datasets) (0.70.15)\n",
      "Requirement already satisfied: fsspec[http]<=2023.10.0,>=2023.1.0 in c:\\users\\neusv\\onedrive\\documentos\\emai upf\\natural lenguage interaction\\project chatbot\\nlp-chat-bot-project\\env\\lib\\site-packages (from datasets) (2023.10.0)\n",
      "Requirement already satisfied: aiohttp in c:\\users\\neusv\\onedrive\\documentos\\emai upf\\natural lenguage interaction\\project chatbot\\nlp-chat-bot-project\\env\\lib\\site-packages (from datasets) (3.8.6)\n",
      "Requirement already satisfied: huggingface-hub<1.0.0,>=0.14.0 in c:\\users\\neusv\\onedrive\\documentos\\emai upf\\natural lenguage interaction\\project chatbot\\nlp-chat-bot-project\\env\\lib\\site-packages (from datasets) (0.17.3)\n",
      "Requirement already satisfied: packaging in c:\\users\\neusv\\onedrive\\documentos\\emai upf\\natural lenguage interaction\\project chatbot\\nlp-chat-bot-project\\env\\lib\\site-packages (from datasets) (23.2)\n",
      "Requirement already satisfied: pyyaml>=5.1 in c:\\users\\neusv\\onedrive\\documentos\\emai upf\\natural lenguage interaction\\project chatbot\\nlp-chat-bot-project\\env\\lib\\site-packages (from datasets) (6.0.1)\n",
      "Requirement already satisfied: attrs>=17.3.0 in c:\\users\\neusv\\onedrive\\documentos\\emai upf\\natural lenguage interaction\\project chatbot\\nlp-chat-bot-project\\env\\lib\\site-packages (from aiohttp->datasets) (23.1.0)\n",
      "Requirement already satisfied: charset-normalizer<4.0,>=2.0 in c:\\users\\neusv\\onedrive\\documentos\\emai upf\\natural lenguage interaction\\project chatbot\\nlp-chat-bot-project\\env\\lib\\site-packages (from aiohttp->datasets) (3.3.2)\n",
      "Requirement already satisfied: multidict<7.0,>=4.5 in c:\\users\\neusv\\onedrive\\documentos\\emai upf\\natural lenguage interaction\\project chatbot\\nlp-chat-bot-project\\env\\lib\\site-packages (from aiohttp->datasets) (6.0.4)\n",
      "Requirement already satisfied: async-timeout<5.0,>=4.0.0a3 in c:\\users\\neusv\\onedrive\\documentos\\emai upf\\natural lenguage interaction\\project chatbot\\nlp-chat-bot-project\\env\\lib\\site-packages (from aiohttp->datasets) (4.0.3)\n",
      "Requirement already satisfied: yarl<2.0,>=1.0 in c:\\users\\neusv\\onedrive\\documentos\\emai upf\\natural lenguage interaction\\project chatbot\\nlp-chat-bot-project\\env\\lib\\site-packages (from aiohttp->datasets) (1.9.2)\n",
      "Requirement already satisfied: frozenlist>=1.1.1 in c:\\users\\neusv\\onedrive\\documentos\\emai upf\\natural lenguage interaction\\project chatbot\\nlp-chat-bot-project\\env\\lib\\site-packages (from aiohttp->datasets) (1.4.0)\n",
      "Requirement already satisfied: aiosignal>=1.1.2 in c:\\users\\neusv\\onedrive\\documentos\\emai upf\\natural lenguage interaction\\project chatbot\\nlp-chat-bot-project\\env\\lib\\site-packages (from aiohttp->datasets) (1.3.1)\n",
      "Requirement already satisfied: filelock in c:\\users\\neusv\\onedrive\\documentos\\emai upf\\natural lenguage interaction\\project chatbot\\nlp-chat-bot-project\\env\\lib\\site-packages (from huggingface-hub<1.0.0,>=0.14.0->datasets) (3.13.1)\n",
      "Requirement already satisfied: typing-extensions>=3.7.4.3 in c:\\users\\neusv\\onedrive\\documentos\\emai upf\\natural lenguage interaction\\project chatbot\\nlp-chat-bot-project\\env\\lib\\site-packages (from huggingface-hub<1.0.0,>=0.14.0->datasets) (4.8.0)\n",
      "Requirement already satisfied: idna<4,>=2.5 in c:\\users\\neusv\\onedrive\\documentos\\emai upf\\natural lenguage interaction\\project chatbot\\nlp-chat-bot-project\\env\\lib\\site-packages (from requests>=2.19.0->datasets) (3.4)\n",
      "Requirement already satisfied: urllib3<3,>=1.21.1 in c:\\users\\neusv\\onedrive\\documentos\\emai upf\\natural lenguage interaction\\project chatbot\\nlp-chat-bot-project\\env\\lib\\site-packages (from requests>=2.19.0->datasets) (2.0.7)\n",
      "Requirement already satisfied: certifi>=2017.4.17 in c:\\users\\neusv\\onedrive\\documentos\\emai upf\\natural lenguage interaction\\project chatbot\\nlp-chat-bot-project\\env\\lib\\site-packages (from requests>=2.19.0->datasets) (2023.7.22)\n",
      "Requirement already satisfied: colorama in c:\\users\\neusv\\onedrive\\documentos\\emai upf\\natural lenguage interaction\\project chatbot\\nlp-chat-bot-project\\env\\lib\\site-packages (from tqdm>=4.62.1->datasets) (0.4.6)\n",
      "Requirement already satisfied: python-dateutil>=2.8.2 in c:\\users\\neusv\\onedrive\\documentos\\emai upf\\natural lenguage interaction\\project chatbot\\nlp-chat-bot-project\\env\\lib\\site-packages (from pandas->datasets) (2.8.2)\n",
      "Requirement already satisfied: pytz>=2020.1 in c:\\users\\neusv\\onedrive\\documentos\\emai upf\\natural lenguage interaction\\project chatbot\\nlp-chat-bot-project\\env\\lib\\site-packages (from pandas->datasets) (2023.3.post1)\n",
      "Requirement already satisfied: tzdata>=2022.1 in c:\\users\\neusv\\onedrive\\documentos\\emai upf\\natural lenguage interaction\\project chatbot\\nlp-chat-bot-project\\env\\lib\\site-packages (from pandas->datasets) (2023.3)\n",
      "Requirement already satisfied: six>=1.5 in c:\\users\\neusv\\onedrive\\documentos\\emai upf\\natural lenguage interaction\\project chatbot\\nlp-chat-bot-project\\env\\lib\\site-packages (from python-dateutil>=2.8.2->pandas->datasets) (1.16.0)\n"
     ]
    },
    {
     "name": "stderr",
     "output_type": "stream",
     "text": [
      "\n",
      "[notice] A new release of pip available: 22.3.1 -> 23.3.1\n",
      "[notice] To update, run: python.exe -m pip install --upgrade pip\n"
     ]
    }
   ],
   "source": [
    "!pip install datasets"
   ]
  },
  {
   "cell_type": "code",
   "execution_count": 6,
   "metadata": {},
   "outputs": [],
   "source": [
    "from datasets import load_dataset\n",
    "dataset = load_dataset(\"multi_woz_v22\")"
   ]
  },
  {
   "cell_type": "code",
   "execution_count": 7,
   "metadata": {},
   "outputs": [
    {
     "ename": "FileNotFoundError",
     "evalue": "No such file: 'dataset.hf\\dataset_dict.json'. Expected to load a `DatasetDict` object, but provided path is not a `DatasetDict`.",
     "output_type": "error",
     "traceback": [
      "\u001b[1;31m---------------------------------------------------------------------------\u001b[0m",
      "\u001b[1;31mFileNotFoundError\u001b[0m                         Traceback (most recent call last)",
      "\u001b[1;32mc:\\Users\\neusv\\OneDrive\\Documentos\\EMAI UPF\\NATURAL LENGUAGE INTERACTION\\Project ChatBot\\NLP-Chat-Bot-project\\slot_filling.ipynb Celda 3\u001b[0m line \u001b[0;36m2\n\u001b[0;32m      <a href='vscode-notebook-cell:/c%3A/Users/neusv/OneDrive/Documentos/EMAI%20UPF/NATURAL%20LENGUAGE%20INTERACTION/Project%20ChatBot/NLP-Chat-Bot-project/slot_filling.ipynb#W2sZmlsZQ%3D%3D?line=0'>1</a>\u001b[0m \u001b[39mfrom\u001b[39;00m \u001b[39mdatasets\u001b[39;00m \u001b[39mimport\u001b[39;00m DatasetDict\n\u001b[1;32m----> <a href='vscode-notebook-cell:/c%3A/Users/neusv/OneDrive/Documentos/EMAI%20UPF/NATURAL%20LENGUAGE%20INTERACTION/Project%20ChatBot/NLP-Chat-Bot-project/slot_filling.ipynb#W2sZmlsZQ%3D%3D?line=1'>2</a>\u001b[0m dataset \u001b[39m=\u001b[39m DatasetDict\u001b[39m.\u001b[39;49mload_from_disk(\u001b[39m\"\u001b[39;49m\u001b[39mdataset.hf\u001b[39;49m\u001b[39m\"\u001b[39;49m)\n",
      "File \u001b[1;32mc:\\Users\\neusv\\OneDrive\\Documentos\\EMAI UPF\\NATURAL LENGUAGE INTERACTION\\Project ChatBot\\NLP-Chat-Bot-project\\env\\Lib\\site-packages\\datasets\\dataset_dict.py:1357\u001b[0m, in \u001b[0;36mDatasetDict.load_from_disk\u001b[1;34m(dataset_dict_path, fs, keep_in_memory, storage_options)\u001b[0m\n\u001b[0;32m   1353\u001b[0m     \u001b[39mif\u001b[39;00m fs\u001b[39m.\u001b[39misfile(dataset_info_path) \u001b[39mand\u001b[39;00m fs\u001b[39m.\u001b[39misfile(dataset_state_json_path):\n\u001b[0;32m   1354\u001b[0m         \u001b[39mraise\u001b[39;00m \u001b[39mFileNotFoundError\u001b[39;00m(\n\u001b[0;32m   1355\u001b[0m             \u001b[39mf\u001b[39m\u001b[39m\"\u001b[39m\u001b[39mNo such file: \u001b[39m\u001b[39m'\u001b[39m\u001b[39m{\u001b[39;00mdataset_dict_json_path\u001b[39m}\u001b[39;00m\u001b[39m'\u001b[39m\u001b[39m. Expected to load a `DatasetDict` object, but got a `Dataset`. Please use either `datasets.load_from_disk` or `Dataset.load_from_disk` instead.\u001b[39m\u001b[39m\"\u001b[39m\n\u001b[0;32m   1356\u001b[0m         )\n\u001b[1;32m-> 1357\u001b[0m     \u001b[39mraise\u001b[39;00m \u001b[39mFileNotFoundError\u001b[39;00m(\n\u001b[0;32m   1358\u001b[0m         \u001b[39mf\u001b[39m\u001b[39m\"\u001b[39m\u001b[39mNo such file: \u001b[39m\u001b[39m'\u001b[39m\u001b[39m{\u001b[39;00mdataset_dict_json_path\u001b[39m}\u001b[39;00m\u001b[39m'\u001b[39m\u001b[39m. Expected to load a `DatasetDict` object, but provided path is not a `DatasetDict`.\u001b[39m\u001b[39m\"\u001b[39m\n\u001b[0;32m   1359\u001b[0m     )\n\u001b[0;32m   1361\u001b[0m \u001b[39mwith\u001b[39;00m fs\u001b[39m.\u001b[39mopen(dataset_dict_json_path, \u001b[39m\"\u001b[39m\u001b[39mr\u001b[39m\u001b[39m\"\u001b[39m, encoding\u001b[39m=\u001b[39m\u001b[39m\"\u001b[39m\u001b[39mutf-8\u001b[39m\u001b[39m\"\u001b[39m) \u001b[39mas\u001b[39;00m f:\n\u001b[0;32m   1362\u001b[0m     splits \u001b[39m=\u001b[39m json\u001b[39m.\u001b[39mload(f)[\u001b[39m\"\u001b[39m\u001b[39msplits\u001b[39m\u001b[39m\"\u001b[39m]\n",
      "\u001b[1;31mFileNotFoundError\u001b[0m: No such file: 'dataset.hf\\dataset_dict.json'. Expected to load a `DatasetDict` object, but provided path is not a `DatasetDict`."
     ]
    }
   ],
   "source": [
    "from datasets import DatasetDict\n",
    "dataset = DatasetDict.load_from_disk(\"dataset.hf\")"
   ]
  },
  {
   "cell_type": "code",
   "execution_count": 8,
   "metadata": {},
   "outputs": [],
   "source": [
    "import pandas as pd\n",
    "\n",
    "data=[]\n",
    "train_data = dataset['train']\n",
    "\n",
    "for i in range(len(train_data)):\n",
    "    data.append(train_data[i])"
   ]
  },
  {
   "cell_type": "code",
   "execution_count": 14,
   "metadata": {},
   "outputs": [],
   "source": [
    "data=[]\n",
    "train_data = dataset['train']\n",
    "\n",
    "for i in range(len(train_data)):\n",
    "  data.append(train_data[i])\n",
    "\n",
    "sentences = []\n",
    "slot_labels = []\n",
    "intent=[]\n",
    "\n",
    "for i in range(len(data)):\n",
    "    for j in range(len(data[i]['turns']['speaker'])):\n",
    "\n",
    "        turn = data[i]['turns']['speaker'][j]\n",
    "\n",
    "        if int(turn) == 0 and data[i]['turns']['frames'][j]['state'] != []:\n",
    "            slots_values_list = data[i]['turns']['frames'][j]['state'][0]['slots_values']['slots_values_list']\n",
    "            slots_values_names = data[i]['turns']['frames'][j]['state'][0]['slots_values']['slots_values_name']\n",
    "            intent.append(data[i]['turns']['frames'][j]['state'][0]['active_intent'])\n",
    "            sentences.append(data[i]['turns']['utterance'][j])\n",
    "            words = data[i]['turns']['utterance'][j].split()\n",
    "            words = [word.rstrip('.') for word in words]\n",
    "\n",
    "\n",
    "            label = []\n",
    "            word_count = {}\n",
    "\n",
    "            for word in words:\n",
    "                found = False\n",
    "                if word not in word_count:\n",
    "                    word_count[word] = 1\n",
    "                else:\n",
    "                    word_count[word] += 1\n",
    "\n",
    "                for idx, slot_values in enumerate(slots_values_list):\n",
    "                    if word in slot_values:\n",
    "                        if word_count[word] > 1 and (idx + word_count[word] - 1) < len(slots_values_names):\n",
    "                            label.append(slots_values_names[idx + word_count[word] - 1])\n",
    "                        else:\n",
    "                            label.append(slots_values_names[idx])\n",
    "                        found = True\n",
    "                        break\n",
    "                if not found:\n",
    "                    label.append(0)\n",
    "            converted_list = ['O' if item == 0 else str(item) for item in label]\n",
    "            result = ' '.join(converted_list)\n",
    "            slot_labels.append(converted_list)"
   ]
  },
  {
   "cell_type": "code",
   "execution_count": 15,
   "metadata": {},
   "outputs": [
    {
     "name": "stdout",
     "output_type": "stream",
     "text": [
      "          intent_label                                              words  \\\n",
      "0      find_restaurant              I would like an expensive restaurant.   \n",
      "1      book_restaurant         For 7 people at 11:15 on Saturday, please.   \n",
      "2      book_restaurant  Caffe Uno will be fine. Yes, I'll need to rese...   \n",
      "3            find_taxi  Great I also need to get a taxi that can get m...   \n",
      "4      book_restaurant  Can I have a reference number for the restaurant?   \n",
      "...                ...                                                ...   \n",
      "38311  find_restaurant                            Is there anything else?   \n",
      "38312  find_restaurant                        what is there phone number?   \n",
      "38313  find_restaurant  Hello, I am looking for a cheap restaurant tha...   \n",
      "38314  find_restaurant                    Yes, how about portuguese food?   \n",
      "38315  find_restaurant                                 It doesn't matter.   \n",
      "\n",
      "                                             words_label  length  \n",
      "0                 [O, O, O, O, restaurant-pricerange, O]      37  \n",
      "1      [O, restaurant-bookpeople, O, O, restaurant-bo...      42  \n",
      "2      [O, O, O, O, O, O, O, O, O, O, O, O, O, O, O, ...     104  \n",
      "3      [O, O, O, O, O, O, O, O, O, O, O, O, O, O, O, ...      74  \n",
      "4                            [O, O, O, O, O, O, O, O, O]      49  \n",
      "...                                                  ...     ...  \n",
      "38311                                       [O, O, O, O]      23  \n",
      "38312                                    [O, O, O, O, O]      27  \n",
      "38313  [O, O, O, O, O, O, restaurant-pricerange, O, O...      67  \n",
      "38314                      [O, O, O, restaurant-food, O]      31  \n",
      "38315                                          [O, O, O]      18  \n",
      "\n",
      "[38316 rows x 4 columns]\n"
     ]
    }
   ],
   "source": [
    "lens=[]\n",
    "for i in range(len(sentences)):\n",
    "  lens.append(len(sentences[i]))\n",
    "\n",
    "df_validation = pd.DataFrame({'intent_label': intent[0:4789],'words': sentences[0:4789], 'words_label': slot_labels[0:4789], 'length': lens[0:4789]})\n",
    "df_test = pd.DataFrame({'intent_label': intent[4790:9579],'words': sentences[4790:9579], 'words_label': slot_labels[4790:9579], 'length': lens[4790:9579]})\n",
    "df_train = pd.DataFrame({'intent_label': intent[9580:47896],'words': sentences[9580:47896], 'words_label': slot_labels[9580:47896], 'length': lens[9580:47896]})\n",
    "print(df_train)\n"
   ]
  },
  {
   "cell_type": "code",
   "execution_count": 16,
   "metadata": {},
   "outputs": [
    {
     "data": {
      "text/plain": [
       "intent_label\n",
       "find_restaurant    7704\n",
       "find_hotel         7413\n",
       "find_train         6654\n",
       "find_attraction    5344\n",
       "book_restaurant    3229\n",
       "book_hotel         3020\n",
       "find_taxi          2392\n",
       "book_train         1676\n",
       "find_hospital       504\n",
       "find_police         376\n",
       "find_bus              4\n",
       "Name: count, dtype: int64"
      ]
     },
     "execution_count": 16,
     "metadata": {},
     "output_type": "execute_result"
    }
   ],
   "source": [
    "# Count the number of lines by intent label\n",
    "df_train.intent_label.value_counts()"
   ]
  },
  {
   "cell_type": "code",
   "execution_count": 17,
   "metadata": {},
   "outputs": [
    {
     "name": "stderr",
     "output_type": "stream",
     "text": [
      "\n",
      "[notice] A new release of pip available: 22.3.1 -> 23.3.1\n",
      "[notice] To update, run: python.exe -m pip install --upgrade pip\n"
     ]
    },
    {
     "name": "stdout",
     "output_type": "stream",
     "text": [
      "Requirement already satisfied: matplotlib in c:\\users\\neusv\\onedrive\\documentos\\emai upf\\natural lenguage interaction\\project chatbot\\nlp-chat-bot-project\\env\\lib\\site-packages (3.8.1)\n",
      "Requirement already satisfied: contourpy>=1.0.1 in c:\\users\\neusv\\onedrive\\documentos\\emai upf\\natural lenguage interaction\\project chatbot\\nlp-chat-bot-project\\env\\lib\\site-packages (from matplotlib) (1.2.0)\n",
      "Requirement already satisfied: cycler>=0.10 in c:\\users\\neusv\\onedrive\\documentos\\emai upf\\natural lenguage interaction\\project chatbot\\nlp-chat-bot-project\\env\\lib\\site-packages (from matplotlib) (0.12.1)\n",
      "Requirement already satisfied: fonttools>=4.22.0 in c:\\users\\neusv\\onedrive\\documentos\\emai upf\\natural lenguage interaction\\project chatbot\\nlp-chat-bot-project\\env\\lib\\site-packages (from matplotlib) (4.44.0)\n",
      "Requirement already satisfied: kiwisolver>=1.3.1 in c:\\users\\neusv\\onedrive\\documentos\\emai upf\\natural lenguage interaction\\project chatbot\\nlp-chat-bot-project\\env\\lib\\site-packages (from matplotlib) (1.4.5)\n",
      "Requirement already satisfied: numpy<2,>=1.21 in c:\\users\\neusv\\onedrive\\documentos\\emai upf\\natural lenguage interaction\\project chatbot\\nlp-chat-bot-project\\env\\lib\\site-packages (from matplotlib) (1.26.0)\n",
      "Requirement already satisfied: packaging>=20.0 in c:\\users\\neusv\\onedrive\\documentos\\emai upf\\natural lenguage interaction\\project chatbot\\nlp-chat-bot-project\\env\\lib\\site-packages (from matplotlib) (23.2)\n",
      "Requirement already satisfied: pillow>=8 in c:\\users\\neusv\\onedrive\\documentos\\emai upf\\natural lenguage interaction\\project chatbot\\nlp-chat-bot-project\\env\\lib\\site-packages (from matplotlib) (10.1.0)\n",
      "Requirement already satisfied: pyparsing>=2.3.1 in c:\\users\\neusv\\onedrive\\documentos\\emai upf\\natural lenguage interaction\\project chatbot\\nlp-chat-bot-project\\env\\lib\\site-packages (from matplotlib) (3.1.1)\n",
      "Requirement already satisfied: python-dateutil>=2.7 in c:\\users\\neusv\\onedrive\\documentos\\emai upf\\natural lenguage interaction\\project chatbot\\nlp-chat-bot-project\\env\\lib\\site-packages (from matplotlib) (2.8.2)\n",
      "Requirement already satisfied: six>=1.5 in c:\\users\\neusv\\onedrive\\documentos\\emai upf\\natural lenguage interaction\\project chatbot\\nlp-chat-bot-project\\env\\lib\\site-packages (from python-dateutil>=2.7->matplotlib) (1.16.0)\n"
     ]
    },
    {
     "data": {
      "text/plain": [
       "array([[<Axes: title={'center': 'length'}>]], dtype=object)"
      ]
     },
     "execution_count": 17,
     "metadata": {},
     "output_type": "execute_result"
    },
    {
     "data": {
      "image/png": "[encoded data removed]",
      "text/plain": [
       "<Figure size 640x480 with 1 Axes>"
      ]
     },
     "metadata": {},
     "output_type": "display_data"
    }
   ],
   "source": [
    "!pip install matplotlib\n",
    "# Histogram of sentence lengths\n",
    "df_train.hist('length', bins=30)"
   ]
  },
  {
   "cell_type": "markdown",
   "metadata": {},
   "source": [
    "## Intent classification (sentence level)¶\n",
    "Let's ignore the slot filling task for now and let's try to build a sentence level classifier by fine-tuning a pre-trained Transformer-based model using the huggingface/transformers package that provides both Tensorflow/Keras and Pytorch APIs.\n",
    "\n",
    "**The BERT tokenizer**\n",
    "First let's load a pre-trained tokenizer and test it on a test sentence from the training set."
   ]
  },
  {
   "cell_type": "code",
   "execution_count": 18,
   "metadata": {},
   "outputs": [
    {
     "name": "stdout",
     "output_type": "stream",
     "text": [
      "Requirement already satisfied: transformers in c:\\users\\neusv\\onedrive\\documentos\\emai upf\\natural lenguage interaction\\project chatbot\\nlp-chat-bot-project\\env\\lib\\site-packages (4.35.0)\n",
      "Requirement already satisfied: filelock in c:\\users\\neusv\\onedrive\\documentos\\emai upf\\natural lenguage interaction\\project chatbot\\nlp-chat-bot-project\\env\\lib\\site-packages (from transformers) (3.13.1)\n",
      "Requirement already satisfied: huggingface-hub<1.0,>=0.16.4 in c:\\users\\neusv\\onedrive\\documentos\\emai upf\\natural lenguage interaction\\project chatbot\\nlp-chat-bot-project\\env\\lib\\site-packages (from transformers) (0.17.3)\n",
      "Requirement already satisfied: numpy>=1.17 in c:\\users\\neusv\\onedrive\\documentos\\emai upf\\natural lenguage interaction\\project chatbot\\nlp-chat-bot-project\\env\\lib\\site-packages (from transformers) (1.26.0)\n",
      "Requirement already satisfied: packaging>=20.0 in c:\\users\\neusv\\onedrive\\documentos\\emai upf\\natural lenguage interaction\\project chatbot\\nlp-chat-bot-project\\env\\lib\\site-packages (from transformers) (23.2)\n",
      "Requirement already satisfied: pyyaml>=5.1 in c:\\users\\neusv\\onedrive\\documentos\\emai upf\\natural lenguage interaction\\project chatbot\\nlp-chat-bot-project\\env\\lib\\site-packages (from transformers) (6.0.1)\n",
      "Requirement already satisfied: regex!=2019.12.17 in c:\\users\\neusv\\onedrive\\documentos\\emai upf\\natural lenguage interaction\\project chatbot\\nlp-chat-bot-project\\env\\lib\\site-packages (from transformers) (2023.10.3)\n",
      "Requirement already satisfied: requests in c:\\users\\neusv\\onedrive\\documentos\\emai upf\\natural lenguage interaction\\project chatbot\\nlp-chat-bot-project\\env\\lib\\site-packages (from transformers) (2.31.0)\n",
      "Requirement already satisfied: tokenizers<0.15,>=0.14 in c:\\users\\neusv\\onedrive\\documentos\\emai upf\\natural lenguage interaction\\project chatbot\\nlp-chat-bot-project\\env\\lib\\site-packages (from transformers) (0.14.1)\n",
      "Requirement already satisfied: safetensors>=0.3.1 in c:\\users\\neusv\\onedrive\\documentos\\emai upf\\natural lenguage interaction\\project chatbot\\nlp-chat-bot-project\\env\\lib\\site-packages (from transformers) (0.4.0)\n",
      "Requirement already satisfied: tqdm>=4.27 in c:\\users\\neusv\\onedrive\\documentos\\emai upf\\natural lenguage interaction\\project chatbot\\nlp-chat-bot-project\\env\\lib\\site-packages (from transformers) (4.66.1)\n",
      "Requirement already satisfied: fsspec in c:\\users\\neusv\\onedrive\\documentos\\emai upf\\natural lenguage interaction\\project chatbot\\nlp-chat-bot-project\\env\\lib\\site-packages (from huggingface-hub<1.0,>=0.16.4->transformers) (2023.10.0)\n",
      "Requirement already satisfied: typing-extensions>=3.7.4.3 in c:\\users\\neusv\\onedrive\\documentos\\emai upf\\natural lenguage interaction\\project chatbot\\nlp-chat-bot-project\\env\\lib\\site-packages (from huggingface-hub<1.0,>=0.16.4->transformers) (4.8.0)\n",
      "Requirement already satisfied: colorama in c:\\users\\neusv\\onedrive\\documentos\\emai upf\\natural lenguage interaction\\project chatbot\\nlp-chat-bot-project\\env\\lib\\site-packages (from tqdm>=4.27->transformers) (0.4.6)\n",
      "Requirement already satisfied: charset-normalizer<4,>=2 in c:\\users\\neusv\\onedrive\\documentos\\emai upf\\natural lenguage interaction\\project chatbot\\nlp-chat-bot-project\\env\\lib\\site-packages (from requests->transformers) (3.3.2)\n",
      "Requirement already satisfied: idna<4,>=2.5 in c:\\users\\neusv\\onedrive\\documentos\\emai upf\\natural lenguage interaction\\project chatbot\\nlp-chat-bot-project\\env\\lib\\site-packages (from requests->transformers) (3.4)\n",
      "Requirement already satisfied: urllib3<3,>=1.21.1 in c:\\users\\neusv\\onedrive\\documentos\\emai upf\\natural lenguage interaction\\project chatbot\\nlp-chat-bot-project\\env\\lib\\site-packages (from requests->transformers) (2.0.7)\n",
      "Requirement already satisfied: certifi>=2017.4.17 in c:\\users\\neusv\\onedrive\\documentos\\emai upf\\natural lenguage interaction\\project chatbot\\nlp-chat-bot-project\\env\\lib\\site-packages (from requests->transformers) (2023.7.22)\n"
     ]
    },
    {
     "name": "stderr",
     "output_type": "stream",
     "text": [
      "\n",
      "[notice] A new release of pip available: 22.3.1 -> 23.3.1\n",
      "[notice] To update, run: python.exe -m pip install --upgrade pip\n"
     ]
    }
   ],
   "source": [
    "!pip install transformers\n",
    "from transformers import BertTokenizer, TFBertModel\n",
    "model_name = 'bert-base-cased'\n",
    "tokenizer = BertTokenizer.from_pretrained(model_name)\n"
   ]
  },
  {
   "cell_type": "code",
   "execution_count": 21,
   "metadata": {},
   "outputs": [
    {
     "name": "stdout",
     "output_type": "stream",
     "text": [
      "I would like an expensive restaurant.\n"
     ]
    }
   ],
   "source": [
    "first_sentence = df_train.iloc[0]['words']\n",
    "print(first_sentence)"
   ]
  },
  {
   "cell_type": "code",
   "execution_count": 22,
   "metadata": {},
   "outputs": [
    {
     "data": {
      "text/plain": [
       "['I', 'would', 'like', 'an', 'expensive', 'restaurant', '.']"
      ]
     },
     "execution_count": 22,
     "metadata": {},
     "output_type": "execute_result"
    }
   ],
   "source": [
    "tokenizer.tokenize(first_sentence)"
   ]
  },
  {
   "cell_type": "code",
   "execution_count": 23,
   "metadata": {},
   "outputs": [
    {
     "data": {
      "text/plain": [
       "[101, 146, 1156, 1176, 1126, 5865, 4382, 119, 102]"
      ]
     },
     "execution_count": 23,
     "metadata": {},
     "output_type": "execute_result"
    }
   ],
   "source": [
    "# Encode sentence to id\n",
    "tokenizer.encode(first_sentence)"
   ]
  },
  {
   "cell_type": "code",
   "execution_count": 24,
   "metadata": {},
   "outputs": [
    {
     "data": {
      "text/plain": [
       "'[CLS] I would like an expensive restaurant. [SEP]'"
      ]
     },
     "execution_count": 24,
     "metadata": {},
     "output_type": "execute_result"
    }
   ],
   "source": [
    "# Do the inverse operation\n",
    "tokenizer.decode(tokenizer.encode(first_sentence))"
   ]
  },
  {
   "cell_type": "markdown",
   "metadata": {},
   "source": [
    "Remarks:\n",
    "\n",
    "* The first token [CLS] is used by the pre-training task for sequence classification.\n",
    "* The last token [SEP] is a separator for the pre-training task that classifies if a pair of sentences are consecutive in a corpus or not (next sentence prediction).\n",
    "* Here, we want to use BERT to compute a representation of a single voice command at a time.\n",
    "* We could reuse the representation of the [CLS] token for sequence classification.\n",
    "* Alternatively, we can pool the representations of all the tokens of the voice command (e.g. global average) and use that as the input of the final sequence classification layer."
   ]
  },
  {
   "cell_type": "code",
   "execution_count": 25,
   "metadata": {},
   "outputs": [
    {
     "data": {
      "image/png": "[encoded data removed]",
      "text/plain": [
       "<Figure size 640x480 with 1 Axes>"
      ]
     },
     "metadata": {},
     "output_type": "display_data"
    }
   ],
   "source": [
    "import matplotlib.pyplot as plt\n",
    "train_sequence_lengths = [len(tokenizer.encode(text))\n",
    "                          for text in df_train['words']]\n",
    "plt.hist(train_sequence_lengths, bins=30)\n",
    "plt.title(f'Max sequence length: {max(train_sequence_lengths)}')\n",
    "plt.xlabel('Length')\n",
    "plt.ylabel('Count')\n",
    "plt.show()"
   ]
  },
  {
   "cell_type": "markdown",
   "metadata": {},
   "source": [
    "To perform transfer learning, we will need to work with padded sequences. So, they all have the same sizes. The above histograms, shows that after tokenization,  $50$  tokens are enough to represent all the voice commands in the training set.\n",
    "\n",
    "The mapping can be introspected in the tokenizer.vocab attribute."
   ]
  },
  {
   "cell_type": "code",
   "execution_count": 26,
   "metadata": {},
   "outputs": [
    {
     "name": "stdout",
     "output_type": "stream",
     "text": [
      "Vocabulary size: 28996 words.\n"
     ]
    }
   ],
   "source": [
    "print(f'Vocabulary size: {tokenizer.vocab_size} words.')"
   ]
  },
  {
   "cell_type": "code",
   "execution_count": 27,
   "metadata": {},
   "outputs": [
    {
     "data": {
      "text/plain": [
       "[('ä', 250),\n",
       " ('å', 251),\n",
       " ('æ', 252),\n",
       " ('ç', 253),\n",
       " ('è', 254),\n",
       " ('é', 255),\n",
       " ('ê', 256),\n",
       " ('ë', 257),\n",
       " ('ì', 258),\n",
       " ('í', 259)]"
      ]
     },
     "execution_count": 27,
     "metadata": {},
     "output_type": "execute_result"
    }
   ],
   "source": [
    "# Get the items in BERT\n",
    "bert_vocab_items = list(tokenizer.vocab.items())\n",
    "# Print some examples of items\n",
    "bert_vocab_items[250:260]"
   ]
  },
  {
   "cell_type": "markdown",
   "metadata": {},
   "source": [
    "## Encoding the dataset with the tokenizer\n",
    "Let's now encode the full train/validation and test sets with our tokenizer to get a padded integer numpy arrays."
   ]
  },
  {
   "cell_type": "code",
   "execution_count": 28,
   "metadata": {},
   "outputs": [],
   "source": [
    "def encode_dataset(tokenizer, text_sequences, max_length):\n",
    "    token_ids = np.zeros(shape=(len(text_sequences), max_length),\n",
    "                         dtype=np.int32)\n",
    "    for i, text_sequence in enumerate(text_sequences):\n",
    "        encoded = tokenizer.encode(text_sequence)\n",
    "        token_ids[i, 0:len(encoded)] = encoded\n",
    "    attention_masks = (token_ids != 0).astype(np.int32)\n",
    "\n",
    "    return {'input_ids': token_ids, 'attention_masks': attention_masks}"
   ]
  },
  {
   "cell_type": "code",
   "execution_count": 29,
   "metadata": {},
   "outputs": [],
   "source": [
    "import numpy as np\n",
    "\n",
    "encoded_train = encode_dataset(tokenizer, df_train['words'], 90)\n",
    "encoded_validation = encode_dataset(tokenizer, df_validation['words'], 90)\n",
    "encoded_test = encode_dataset(tokenizer, df_test['words'], 90)"
   ]
  },
  {
   "cell_type": "markdown",
   "metadata": {},
   "source": [
    "## Encoding the sequence classification targets\n",
    "To do so, we build a simple mapping from the auxiliary files."
   ]
  },
  {
   "cell_type": "code",
   "execution_count": 32,
   "metadata": {},
   "outputs": [
    {
     "data": {
      "text/plain": [
       "{'book_hotel': 0,\n",
       " 'find_restaurant': 1,\n",
       " 'find_bus': 2,\n",
       " 'book_restaurant': 3,\n",
       " 'find_hospital': 4,\n",
       " 'find_taxi': 5,\n",
       " 'find_police': 6,\n",
       " 'book_train': 7,\n",
       " 'find_attraction': 8,\n",
       " 'find_train': 9,\n",
       " 'find_hotel': 10}"
      ]
     },
     "execution_count": 32,
     "metadata": {},
     "output_type": "execute_result"
    }
   ],
   "source": [
    "intent_names = set(intent)\n",
    "intent_map = dict((label, idx) for idx, label in enumerate(intent_names))\n",
    "intent_map"
   ]
  },
  {
   "cell_type": "code",
   "execution_count": 33,
   "metadata": {},
   "outputs": [],
   "source": [
    "intent_train = df_train['intent_label'].map(intent_map).values\n",
    "intent_validation = df_validation['intent_label'].map(intent_map).values\n",
    "intent_test = df_test['intent_label'].map(intent_map).values"
   ]
  },
  {
   "cell_type": "markdown",
   "metadata": {},
   "source": [
    "## Loading and feeding a pretrained BERT model\n",
    "Let's load a pretrained BERT model using the huggingface transformers package."
   ]
  },
  {
   "cell_type": "code",
   "execution_count": 34,
   "metadata": {},
   "outputs": [
    {
     "name": "stdout",
     "output_type": "stream",
     "text": [
      "Requirement already satisfied: TensorFlow in c:\\users\\neusv\\onedrive\\documentos\\emai upf\\natural lenguage interaction\\project chatbot\\nlp-chat-bot-project\\env\\lib\\site-packages (2.14.0)\n",
      "Requirement already satisfied: tensorflow-intel==2.14.0 in c:\\users\\neusv\\onedrive\\documentos\\emai upf\\natural lenguage interaction\\project chatbot\\nlp-chat-bot-project\\env\\lib\\site-packages (from TensorFlow) (2.14.0)\n",
      "Requirement already satisfied: absl-py>=1.0.0 in c:\\users\\neusv\\onedrive\\documentos\\emai upf\\natural lenguage interaction\\project chatbot\\nlp-chat-bot-project\\env\\lib\\site-packages (from tensorflow-intel==2.14.0->TensorFlow) (2.0.0)\n",
      "Requirement already satisfied: astunparse>=1.6.0 in c:\\users\\neusv\\onedrive\\documentos\\emai upf\\natural lenguage interaction\\project chatbot\\nlp-chat-bot-project\\env\\lib\\site-packages (from tensorflow-intel==2.14.0->TensorFlow) (1.6.3)\n",
      "Requirement already satisfied: flatbuffers>=23.5.26 in c:\\users\\neusv\\onedrive\\documentos\\emai upf\\natural lenguage interaction\\project chatbot\\nlp-chat-bot-project\\env\\lib\\site-packages (from tensorflow-intel==2.14.0->TensorFlow) (23.5.26)\n",
      "Requirement already satisfied: gast!=0.5.0,!=0.5.1,!=0.5.2,>=0.2.1 in c:\\users\\neusv\\onedrive\\documentos\\emai upf\\natural lenguage interaction\\project chatbot\\nlp-chat-bot-project\\env\\lib\\site-packages (from tensorflow-intel==2.14.0->TensorFlow) (0.5.4)\n",
      "Requirement already satisfied: google-pasta>=0.1.1 in c:\\users\\neusv\\onedrive\\documentos\\emai upf\\natural lenguage interaction\\project chatbot\\nlp-chat-bot-project\\env\\lib\\site-packages (from tensorflow-intel==2.14.0->TensorFlow) (0.2.0)\n",
      "Requirement already satisfied: h5py>=2.9.0 in c:\\users\\neusv\\onedrive\\documentos\\emai upf\\natural lenguage interaction\\project chatbot\\nlp-chat-bot-project\\env\\lib\\site-packages (from tensorflow-intel==2.14.0->TensorFlow) (3.10.0)\n",
      "Requirement already satisfied: libclang>=13.0.0 in c:\\users\\neusv\\onedrive\\documentos\\emai upf\\natural lenguage interaction\\project chatbot\\nlp-chat-bot-project\\env\\lib\\site-packages (from tensorflow-intel==2.14.0->TensorFlow) (16.0.6)\n",
      "Requirement already satisfied: ml-dtypes==0.2.0 in c:\\users\\neusv\\onedrive\\documentos\\emai upf\\natural lenguage interaction\\project chatbot\\nlp-chat-bot-project\\env\\lib\\site-packages (from tensorflow-intel==2.14.0->TensorFlow) (0.2.0)\n",
      "Requirement already satisfied: numpy>=1.23.5 in c:\\users\\neusv\\onedrive\\documentos\\emai upf\\natural lenguage interaction\\project chatbot\\nlp-chat-bot-project\\env\\lib\\site-packages (from tensorflow-intel==2.14.0->TensorFlow) (1.26.0)\n",
      "Requirement already satisfied: opt-einsum>=2.3.2 in c:\\users\\neusv\\onedrive\\documentos\\emai upf\\natural lenguage interaction\\project chatbot\\nlp-chat-bot-project\\env\\lib\\site-packages (from tensorflow-intel==2.14.0->TensorFlow) (3.3.0)\n",
      "Requirement already satisfied: packaging in c:\\users\\neusv\\onedrive\\documentos\\emai upf\\natural lenguage interaction\\project chatbot\\nlp-chat-bot-project\\env\\lib\\site-packages (from tensorflow-intel==2.14.0->TensorFlow) (23.2)\n",
      "Requirement already satisfied: protobuf!=4.21.0,!=4.21.1,!=4.21.2,!=4.21.3,!=4.21.4,!=4.21.5,<5.0.0dev,>=3.20.3 in c:\\users\\neusv\\onedrive\\documentos\\emai upf\\natural lenguage interaction\\project chatbot\\nlp-chat-bot-project\\env\\lib\\site-packages (from tensorflow-intel==2.14.0->TensorFlow) (4.25.0)\n",
      "Requirement already satisfied: setuptools in c:\\users\\neusv\\onedrive\\documentos\\emai upf\\natural lenguage interaction\\project chatbot\\nlp-chat-bot-project\\env\\lib\\site-packages (from tensorflow-intel==2.14.0->TensorFlow) (65.5.0)\n",
      "Requirement already satisfied: six>=1.12.0 in c:\\users\\neusv\\onedrive\\documentos\\emai upf\\natural lenguage interaction\\project chatbot\\nlp-chat-bot-project\\env\\lib\\site-packages (from tensorflow-intel==2.14.0->TensorFlow) (1.16.0)\n",
      "Requirement already satisfied: termcolor>=1.1.0 in c:\\users\\neusv\\onedrive\\documentos\\emai upf\\natural lenguage interaction\\project chatbot\\nlp-chat-bot-project\\env\\lib\\site-packages (from tensorflow-intel==2.14.0->TensorFlow) (2.3.0)\n",
      "Requirement already satisfied: typing-extensions>=3.6.6 in c:\\users\\neusv\\onedrive\\documentos\\emai upf\\natural lenguage interaction\\project chatbot\\nlp-chat-bot-project\\env\\lib\\site-packages (from tensorflow-intel==2.14.0->TensorFlow) (4.8.0)\n",
      "Requirement already satisfied: wrapt<1.15,>=1.11.0 in c:\\users\\neusv\\onedrive\\documentos\\emai upf\\natural lenguage interaction\\project chatbot\\nlp-chat-bot-project\\env\\lib\\site-packages (from tensorflow-intel==2.14.0->TensorFlow) (1.14.1)\n",
      "Requirement already satisfied: tensorflow-io-gcs-filesystem>=0.23.1 in c:\\users\\neusv\\onedrive\\documentos\\emai upf\\natural lenguage interaction\\project chatbot\\nlp-chat-bot-project\\env\\lib\\site-packages (from tensorflow-intel==2.14.0->TensorFlow) (0.31.0)\n",
      "Requirement already satisfied: grpcio<2.0,>=1.24.3 in c:\\users\\neusv\\onedrive\\documentos\\emai upf\\natural lenguage interaction\\project chatbot\\nlp-chat-bot-project\\env\\lib\\site-packages (from tensorflow-intel==2.14.0->TensorFlow) (1.59.2)\n",
      "Requirement already satisfied: tensorboard<2.15,>=2.14 in c:\\users\\neusv\\onedrive\\documentos\\emai upf\\natural lenguage interaction\\project chatbot\\nlp-chat-bot-project\\env\\lib\\site-packages (from tensorflow-intel==2.14.0->TensorFlow) (2.14.1)\n",
      "Requirement already satisfied: tensorflow-estimator<2.15,>=2.14.0 in c:\\users\\neusv\\onedrive\\documentos\\emai upf\\natural lenguage interaction\\project chatbot\\nlp-chat-bot-project\\env\\lib\\site-packages (from tensorflow-intel==2.14.0->TensorFlow) (2.14.0)\n",
      "Requirement already satisfied: keras<2.15,>=2.14.0 in c:\\users\\neusv\\onedrive\\documentos\\emai upf\\natural lenguage interaction\\project chatbot\\nlp-chat-bot-project\\env\\lib\\site-packages (from tensorflow-intel==2.14.0->TensorFlow) (2.14.0)\n",
      "Requirement already satisfied: wheel<1.0,>=0.23.0 in c:\\users\\neusv\\onedrive\\documentos\\emai upf\\natural lenguage interaction\\project chatbot\\nlp-chat-bot-project\\env\\lib\\site-packages (from astunparse>=1.6.0->tensorflow-intel==2.14.0->TensorFlow) (0.41.3)\n",
      "Requirement already satisfied: google-auth<3,>=1.6.3 in c:\\users\\neusv\\onedrive\\documentos\\emai upf\\natural lenguage interaction\\project chatbot\\nlp-chat-bot-project\\env\\lib\\site-packages (from tensorboard<2.15,>=2.14->tensorflow-intel==2.14.0->TensorFlow) (2.23.4)\n",
      "Requirement already satisfied: google-auth-oauthlib<1.1,>=0.5 in c:\\users\\neusv\\onedrive\\documentos\\emai upf\\natural lenguage interaction\\project chatbot\\nlp-chat-bot-project\\env\\lib\\site-packages (from tensorboard<2.15,>=2.14->tensorflow-intel==2.14.0->TensorFlow) (1.0.0)\n",
      "Requirement already satisfied: markdown>=2.6.8 in c:\\users\\neusv\\onedrive\\documentos\\emai upf\\natural lenguage interaction\\project chatbot\\nlp-chat-bot-project\\env\\lib\\site-packages (from tensorboard<2.15,>=2.14->tensorflow-intel==2.14.0->TensorFlow) (3.5.1)\n",
      "Requirement already satisfied: requests<3,>=2.21.0 in c:\\users\\neusv\\onedrive\\documentos\\emai upf\\natural lenguage interaction\\project chatbot\\nlp-chat-bot-project\\env\\lib\\site-packages (from tensorboard<2.15,>=2.14->tensorflow-intel==2.14.0->TensorFlow) (2.31.0)\n",
      "Requirement already satisfied: tensorboard-data-server<0.8.0,>=0.7.0 in c:\\users\\neusv\\onedrive\\documentos\\emai upf\\natural lenguage interaction\\project chatbot\\nlp-chat-bot-project\\env\\lib\\site-packages (from tensorboard<2.15,>=2.14->tensorflow-intel==2.14.0->TensorFlow) (0.7.2)\n",
      "Requirement already satisfied: werkzeug>=1.0.1 in c:\\users\\neusv\\onedrive\\documentos\\emai upf\\natural lenguage interaction\\project chatbot\\nlp-chat-bot-project\\env\\lib\\site-packages (from tensorboard<2.15,>=2.14->tensorflow-intel==2.14.0->TensorFlow) (3.0.1)\n",
      "Requirement already satisfied: cachetools<6.0,>=2.0.0 in c:\\users\\neusv\\onedrive\\documentos\\emai upf\\natural lenguage interaction\\project chatbot\\nlp-chat-bot-project\\env\\lib\\site-packages (from google-auth<3,>=1.6.3->tensorboard<2.15,>=2.14->tensorflow-intel==2.14.0->TensorFlow) (5.3.2)\n",
      "Requirement already satisfied: pyasn1-modules>=0.2.1 in c:\\users\\neusv\\onedrive\\documentos\\emai upf\\natural lenguage interaction\\project chatbot\\nlp-chat-bot-project\\env\\lib\\site-packages (from google-auth<3,>=1.6.3->tensorboard<2.15,>=2.14->tensorflow-intel==2.14.0->TensorFlow) (0.3.0)\n",
      "Requirement already satisfied: rsa<5,>=3.1.4 in c:\\users\\neusv\\onedrive\\documentos\\emai upf\\natural lenguage interaction\\project chatbot\\nlp-chat-bot-project\\env\\lib\\site-packages (from google-auth<3,>=1.6.3->tensorboard<2.15,>=2.14->tensorflow-intel==2.14.0->TensorFlow) (4.9)\n",
      "Requirement already satisfied: requests-oauthlib>=0.7.0 in c:\\users\\neusv\\onedrive\\documentos\\emai upf\\natural lenguage interaction\\project chatbot\\nlp-chat-bot-project\\env\\lib\\site-packages (from google-auth-oauthlib<1.1,>=0.5->tensorboard<2.15,>=2.14->tensorflow-intel==2.14.0->TensorFlow) (1.3.1)\n",
      "Requirement already satisfied: charset-normalizer<4,>=2 in c:\\users\\neusv\\onedrive\\documentos\\emai upf\\natural lenguage interaction\\project chatbot\\nlp-chat-bot-project\\env\\lib\\site-packages (from requests<3,>=2.21.0->tensorboard<2.15,>=2.14->tensorflow-intel==2.14.0->TensorFlow) (3.3.2)\n",
      "Requirement already satisfied: idna<4,>=2.5 in c:\\users\\neusv\\onedrive\\documentos\\emai upf\\natural lenguage interaction\\project chatbot\\nlp-chat-bot-project\\env\\lib\\site-packages (from requests<3,>=2.21.0->tensorboard<2.15,>=2.14->tensorflow-intel==2.14.0->TensorFlow) (3.4)\n",
      "Requirement already satisfied: urllib3<3,>=1.21.1 in c:\\users\\neusv\\onedrive\\documentos\\emai upf\\natural lenguage interaction\\project chatbot\\nlp-chat-bot-project\\env\\lib\\site-packages (from requests<3,>=2.21.0->tensorboard<2.15,>=2.14->tensorflow-intel==2.14.0->TensorFlow) (2.0.7)\n",
      "Requirement already satisfied: certifi>=2017.4.17 in c:\\users\\neusv\\onedrive\\documentos\\emai upf\\natural lenguage interaction\\project chatbot\\nlp-chat-bot-project\\env\\lib\\site-packages (from requests<3,>=2.21.0->tensorboard<2.15,>=2.14->tensorflow-intel==2.14.0->TensorFlow) (2023.7.22)\n",
      "Requirement already satisfied: MarkupSafe>=2.1.1 in c:\\users\\neusv\\onedrive\\documentos\\emai upf\\natural lenguage interaction\\project chatbot\\nlp-chat-bot-project\\env\\lib\\site-packages (from werkzeug>=1.0.1->tensorboard<2.15,>=2.14->tensorflow-intel==2.14.0->TensorFlow) (2.1.3)\n",
      "Requirement already satisfied: pyasn1<0.6.0,>=0.4.6 in c:\\users\\neusv\\onedrive\\documentos\\emai upf\\natural lenguage interaction\\project chatbot\\nlp-chat-bot-project\\env\\lib\\site-packages (from pyasn1-modules>=0.2.1->google-auth<3,>=1.6.3->tensorboard<2.15,>=2.14->tensorflow-intel==2.14.0->TensorFlow) (0.5.0)\n",
      "Requirement already satisfied: oauthlib>=3.0.0 in c:\\users\\neusv\\onedrive\\documentos\\emai upf\\natural lenguage interaction\\project chatbot\\nlp-chat-bot-project\\env\\lib\\site-packages (from requests-oauthlib>=0.7.0->google-auth-oauthlib<1.1,>=0.5->tensorboard<2.15,>=2.14->tensorflow-intel==2.14.0->TensorFlow) (3.2.2)\n"
     ]
    },
    {
     "name": "stderr",
     "output_type": "stream",
     "text": [
      "\n",
      "[notice] A new release of pip available: 22.3.1 -> 23.3.1\n",
      "[notice] To update, run: python.exe -m pip install --upgrade pip\n",
      "Downloading model.safetensors: 100%|██████████| 436M/436M [00:16<00:00, 25.7MB/s] \n",
      "c:\\Users\\neusv\\OneDrive\\Documentos\\EMAI UPF\\NATURAL LENGUAGE INTERACTION\\Project ChatBot\\NLP-Chat-Bot-project\\env\\Lib\\site-packages\\huggingface_hub\\file_download.py:137: UserWarning: `huggingface_hub` cache-system uses symlinks by default to efficiently store duplicated files but your machine does not support them in C:\\Users\\neusv\\.cache\\huggingface\\hub. Caching files will still work but in a degraded version that might require more space on your disk. This warning can be disabled by setting the `HF_HUB_DISABLE_SYMLINKS_WARNING` environment variable. For more details, see https://huggingface.co/docs/huggingface_hub/how-to-cache#limitations.\n",
      "To support symlinks on Windows, you either need to activate Developer Mode or to run Python as an administrator. In order to see activate developer mode, see this article: https://docs.microsoft.com/en-us/windows/apps/get-started/enable-your-device-for-development\n",
      "  warnings.warn(message)\n",
      "Some weights of the PyTorch model were not used when initializing the TF 2.0 model TFBertModel: ['cls.predictions.bias', 'cls.predictions.transform.LayerNorm.weight', 'cls.predictions.transform.LayerNorm.bias', 'cls.predictions.transform.dense.bias', 'cls.seq_relationship.bias', 'cls.predictions.transform.dense.weight', 'cls.seq_relationship.weight']\n",
      "- This IS expected if you are initializing TFBertModel from a PyTorch model trained on another task or with another architecture (e.g. initializing a TFBertForSequenceClassification model from a BertForPreTraining model).\n",
      "- This IS NOT expected if you are initializing TFBertModel from a PyTorch model that you expect to be exactly identical (e.g. initializing a TFBertForSequenceClassification model from a BertForSequenceClassification model).\n",
      "All the weights of TFBertModel were initialized from the PyTorch model.\n",
      "If your task is similar to the task the model of the checkpoint was trained on, you can already use TFBertModel for predictions without further training.\n"
     ]
    },
    {
     "name": "stdout",
     "output_type": "stream",
     "text": [
      "Model: \"tf_bert_model\"\n",
      "_________________________________________________________________\n",
      " Layer (type)                Output Shape              Param #   \n",
      "=================================================================\n",
      " bert (TFBertMainLayer)      multiple                  108310272 \n",
      "                                                                 \n",
      "=================================================================\n",
      "Total params: 108310272 (413.17 MB)\n",
      "Trainable params: 108310272 (413.17 MB)\n",
      "Non-trainable params: 0 (0.00 Byte)\n",
      "_________________________________________________________________\n"
     ]
    }
   ],
   "source": [
    "!pip install TensorFlow\n",
    "import transformers\n",
    "\n",
    "base_bert_model = TFBertModel.from_pretrained(model_name)\n",
    "base_bert_model.summary()"
   ]
  },
  {
   "cell_type": "code",
   "execution_count": null,
   "metadata": {},
   "outputs": [],
   "source": [
    "outputs = base_bert_model(encoded_validation)\n",
    "print(f'Shape of the first output of the BERT model: {outputs[0].shape}.')\n",
    "print(f'Shape of the second output of the BERT model: {outputs[1].shape}.')"
   ]
  },
  {
   "cell_type": "code",
   "execution_count": 37,
   "metadata": {},
   "outputs": [],
   "source": [
    "import tensorflow as tf\n",
    "from tensorflow.keras.layers import Dense, Dropout\n",
    "from tensorflow.keras.losses import SparseCategoricalCrossentropy\n",
    "from tensorflow.keras.metrics import SparseCategoricalAccuracy\n",
    "from tensorflow.keras.optimizers import Adam\n",
    "\n",
    "# Define IntentClassification model\n",
    "class IntentClassificationModel(tf.keras.Model):\n",
    "    def __init__(self, intent_num_labels=None,\n",
    "                 model_name='bert-base-cased',\n",
    "                 dropout_prob=0.1):\n",
    "        super().__init__(name='joint_intent_slot')\n",
    "        # Let's preload the pretrained model BERT in the constructor\n",
    "        # of our classifier model.\n",
    "        self.bert = TFBertModel.from_pretrained(model_name)\n",
    "        self.dropout = Dropout(dropout_prob)\n",
    "\n",
    "        # Define a (Dense) classification layer to compute for each\n",
    "        # sequence in a batch of samples. The number of output classes\n",
    "        # is given by the intent_num_labels parameter.\n",
    "        # Use the default linear activation (no softmax) to compute\n",
    "        # logits. The softmax normalization will be computed in the\n",
    "        # loss function instead of the model itself.\n",
    "        self.intent_classifier = Dense(intent_num_labels)\n",
    "\n",
    "    def call(self, inputs, **kwargs):\n",
    "        # Use the pretrained model to extract features from our\n",
    "        # encoded inputs.\n",
    "        sequence_output, pooled_output = self.bert(inputs, **kwargs)\n",
    "\n",
    "        # The second output of the main BERT layer has shape:\n",
    "        # (batch_size, output_dim) and gives a \"pooled\" representation\n",
    "        # for the full sequence from the hidden state that corresponds\n",
    "        # to the \"[CLS]\" token.\n",
    "        pooled_output = self.dropout(pooled_output, training=kwargs.get('training', False))\n",
    "\n",
    "        # Use the classifier layer to compute the logits from the\n",
    "        # pooled features.\n",
    "        intent_logits = self.intent_classifier(pooled_output)\n",
    "        return intent_logits"
   ]
  },
  {
   "cell_type": "code",
   "execution_count": 38,
   "metadata": {},
   "outputs": [
    {
     "name": "stderr",
     "output_type": "stream",
     "text": [
      "Some weights of the PyTorch model were not used when initializing the TF 2.0 model TFBertModel: ['cls.predictions.bias', 'cls.predictions.transform.LayerNorm.weight', 'cls.predictions.transform.LayerNorm.bias', 'cls.predictions.transform.dense.bias', 'cls.seq_relationship.bias', 'cls.predictions.transform.dense.weight', 'cls.seq_relationship.weight']\n",
      "- This IS expected if you are initializing TFBertModel from a PyTorch model trained on another task or with another architecture (e.g. initializing a TFBertForSequenceClassification model from a BertForPreTraining model).\n",
      "- This IS NOT expected if you are initializing TFBertModel from a PyTorch model that you expect to be exactly identical (e.g. initializing a TFBertForSequenceClassification model from a BertForSequenceClassification model).\n",
      "All the weights of TFBertModel were initialized from the PyTorch model.\n",
      "If your task is similar to the task the model of the checkpoint was trained on, you can already use TFBertModel for predictions without further training.\n"
     ]
    }
   ],
   "source": [
    "# Build the model\n",
    "intent_model = IntentClassificationModel(intent_num_labels=len(intent_map))\n",
    "\n",
    "intent_model.compile(optimizer=Adam(learning_rate=3e-5, epsilon=1e-08),\n",
    "                     loss=SparseCategoricalCrossentropy(from_logits=True),\n",
    "                     metrics=[SparseCategoricalAccuracy('accuracy')])"
   ]
  },
  {
   "cell_type": "code",
   "execution_count": 43,
   "metadata": {},
   "outputs": [
    {
     "name": "stdout",
     "output_type": "stream",
     "text": [
      "Epoch 1/2\n"
     ]
    },
    {
     "ename": "TypeError",
     "evalue": "in user code:\n\n    File \"c:\\Users\\neusv\\OneDrive\\Documentos\\EMAI UPF\\NATURAL LENGUAGE INTERACTION\\Project ChatBot\\NLP-Chat-Bot-project\\env\\Lib\\site-packages\\keras\\src\\engine\\training.py\", line 1377, in train_function  *\n        return step_function(self, iterator)\n    File \"c:\\Users\\neusv\\OneDrive\\Documentos\\EMAI UPF\\NATURAL LENGUAGE INTERACTION\\Project ChatBot\\NLP-Chat-Bot-project\\env\\Lib\\site-packages\\keras\\src\\engine\\training.py\", line 1360, in step_function  **\n        outputs = model.distribute_strategy.run(run_step, args=(data,))\n    File \"c:\\Users\\neusv\\OneDrive\\Documentos\\EMAI UPF\\NATURAL LENGUAGE INTERACTION\\Project ChatBot\\NLP-Chat-Bot-project\\env\\Lib\\site-packages\\keras\\src\\engine\\training.py\", line 1349, in run_step  **\n        outputs = model.train_step(data)\n    File \"c:\\Users\\neusv\\OneDrive\\Documentos\\EMAI UPF\\NATURAL LENGUAGE INTERACTION\\Project ChatBot\\NLP-Chat-Bot-project\\env\\Lib\\site-packages\\keras\\src\\engine\\training.py\", line 1126, in train_step\n        y_pred = self(x, training=True)\n    File \"c:\\Users\\neusv\\OneDrive\\Documentos\\EMAI UPF\\NATURAL LENGUAGE INTERACTION\\Project ChatBot\\NLP-Chat-Bot-project\\env\\Lib\\site-packages\\keras\\src\\utils\\traceback_utils.py\", line 70, in error_handler\n        raise e.with_traceback(filtered_tb) from None\n    File \"C:\\Users\\neusv\\AppData\\Local\\Temp\\__autograph_generated_filea3znfh4h.py\", line 10, in tf__call\n        sequence_output, pooled_output = ag__.converted_call(ag__.ld(self).bert, (ag__.ld(inputs),), dict(**ag__.ld(kwargs)), fscope)\n    File \"C:\\Users\\neusv\\AppData\\Local\\Temp\\__autograph_generated_filer7l1kwla.py\", line 40, in tf__run_call_with_unpacked_inputs\n        raise\n\n    TypeError: Exception encountered when calling layer 'joint_intent_slot' (type IntentClassificationModel).\n    \n    in user code:\n    \n        File \"C:\\Users\\neusv\\AppData\\Local\\Temp\\ipykernel_60960\\298034465.py\", line 29, in call  *\n            sequence_output, pooled_output = self.bert(inputs, **kwargs)\n        File \"c:\\Users\\neusv\\OneDrive\\Documentos\\EMAI UPF\\NATURAL LENGUAGE INTERACTION\\Project ChatBot\\NLP-Chat-Bot-project\\env\\Lib\\site-packages\\keras\\src\\utils\\traceback_utils.py\", line 70, in error_handler  **\n            raise e.with_traceback(filtered_tb) from None\n        File \"C:\\Users\\neusv\\AppData\\Local\\Temp\\__autograph_generated_filer7l1kwla.py\", line 40, in tf__run_call_with_unpacked_inputs\n            raise\n    \n        TypeError: Exception encountered when calling layer 'tf_bert_model_1' (type TFBertModel).\n        \n        in user code:\n        \n            File \"c:\\Users\\neusv\\OneDrive\\Documentos\\EMAI UPF\\NATURAL LENGUAGE INTERACTION\\Project ChatBot\\NLP-Chat-Bot-project\\env\\Lib\\site-packages\\transformers\\modeling_tf_utils.py\", line 1061, in run_call_with_unpacked_inputs  *\n                return func(self, **unpacked_inputs)\n        \n            TypeError: outer_factory.<locals>.inner_factory.<locals>.tf__call() got an unexpected keyword argument 'attention_masks'\n        \n        \n        Call arguments received by layer 'tf_bert_model_1' (type TFBertModel):\n          • input_ids={'input_ids': 'tf.Tensor(shape=(None, 90), dtype=int32)', 'attention_masks': 'tf.Tensor(shape=(None, 90), dtype=int32)'}\n          • attention_mask=None\n          • token_type_ids=None\n          • position_ids=None\n          • head_mask=None\n          • inputs_embeds=None\n          • encoder_hidden_states=None\n          • encoder_attention_mask=None\n          • past_key_values=None\n          • use_cache=None\n          • output_attentions=None\n          • output_hidden_states=None\n          • return_dict=None\n          • training=True\n    \n    \n    Call arguments received by layer 'joint_intent_slot' (type IntentClassificationModel):\n      • inputs={'input_ids': 'tf.Tensor(shape=(None, 90), dtype=int32)', 'attention_masks': 'tf.Tensor(shape=(None, 90), dtype=int32)'}\n      • kwargs={'training': 'True'}\n",
     "output_type": "error",
     "traceback": [
      "\u001b[1;31m---------------------------------------------------------------------------\u001b[0m",
      "\u001b[1;31mTypeError\u001b[0m                                 Traceback (most recent call last)",
      "\u001b[1;32mc:\\Users\\neusv\\OneDrive\\Documentos\\EMAI UPF\\NATURAL LENGUAGE INTERACTION\\Project ChatBot\\NLP-Chat-Bot-project\\slot_filling.ipynb Celda 26\u001b[0m line \u001b[0;36m3\n\u001b[0;32m      <a href='vscode-notebook-cell:/c%3A/Users/neusv/OneDrive/Documentos/EMAI%20UPF/NATURAL%20LENGUAGE%20INTERACTION/Project%20ChatBot/NLP-Chat-Bot-project/slot_filling.ipynb#X34sZmlsZQ%3D%3D?line=0'>1</a>\u001b[0m \u001b[39m# Train the model\u001b[39;00m\n\u001b[0;32m      <a href='vscode-notebook-cell:/c%3A/Users/neusv/OneDrive/Documentos/EMAI%20UPF/NATURAL%20LENGUAGE%20INTERACTION/Project%20ChatBot/NLP-Chat-Bot-project/slot_filling.ipynb#X34sZmlsZQ%3D%3D?line=1'>2</a>\u001b[0m \u001b[39m#Probably we need to add ['inputs_id'] to the data\u001b[39;00m\n\u001b[1;32m----> <a href='vscode-notebook-cell:/c%3A/Users/neusv/OneDrive/Documentos/EMAI%20UPF/NATURAL%20LENGUAGE%20INTERACTION/Project%20ChatBot/NLP-Chat-Bot-project/slot_filling.ipynb#X34sZmlsZQ%3D%3D?line=2'>3</a>\u001b[0m history \u001b[39m=\u001b[39m intent_model\u001b[39m.\u001b[39;49mfit(encoded_train, intent_train,\n\u001b[0;32m      <a href='vscode-notebook-cell:/c%3A/Users/neusv/OneDrive/Documentos/EMAI%20UPF/NATURAL%20LENGUAGE%20INTERACTION/Project%20ChatBot/NLP-Chat-Bot-project/slot_filling.ipynb#X34sZmlsZQ%3D%3D?line=3'>4</a>\u001b[0m                            epochs\u001b[39m=\u001b[39;49m\u001b[39m2\u001b[39;49m, batch_size\u001b[39m=\u001b[39;49m\u001b[39m32\u001b[39;49m,\n\u001b[0;32m      <a href='vscode-notebook-cell:/c%3A/Users/neusv/OneDrive/Documentos/EMAI%20UPF/NATURAL%20LENGUAGE%20INTERACTION/Project%20ChatBot/NLP-Chat-Bot-project/slot_filling.ipynb#X34sZmlsZQ%3D%3D?line=4'>5</a>\u001b[0m                            validation_data\u001b[39m=\u001b[39;49m(encoded_validation, intent_validation))\n",
      "File \u001b[1;32mc:\\Users\\neusv\\OneDrive\\Documentos\\EMAI UPF\\NATURAL LENGUAGE INTERACTION\\Project ChatBot\\NLP-Chat-Bot-project\\env\\Lib\\site-packages\\keras\\src\\utils\\traceback_utils.py:70\u001b[0m, in \u001b[0;36mfilter_traceback.<locals>.error_handler\u001b[1;34m(*args, **kwargs)\u001b[0m\n\u001b[0;32m     67\u001b[0m     filtered_tb \u001b[39m=\u001b[39m _process_traceback_frames(e\u001b[39m.\u001b[39m__traceback__)\n\u001b[0;32m     68\u001b[0m     \u001b[39m# To get the full stack trace, call:\u001b[39;00m\n\u001b[0;32m     69\u001b[0m     \u001b[39m# `tf.debugging.disable_traceback_filtering()`\u001b[39;00m\n\u001b[1;32m---> 70\u001b[0m     \u001b[39mraise\u001b[39;00m e\u001b[39m.\u001b[39mwith_traceback(filtered_tb) \u001b[39mfrom\u001b[39;00m \u001b[39mNone\u001b[39;00m\n\u001b[0;32m     71\u001b[0m \u001b[39mfinally\u001b[39;00m:\n\u001b[0;32m     72\u001b[0m     \u001b[39mdel\u001b[39;00m filtered_tb\n",
      "File \u001b[1;32m~\\AppData\\Local\\Temp\\__autograph_generated_fileobvwwu1u.py:15\u001b[0m, in \u001b[0;36mouter_factory.<locals>.inner_factory.<locals>.tf__train_function\u001b[1;34m(iterator)\u001b[0m\n\u001b[0;32m     13\u001b[0m \u001b[39mtry\u001b[39;00m:\n\u001b[0;32m     14\u001b[0m     do_return \u001b[39m=\u001b[39m \u001b[39mTrue\u001b[39;00m\n\u001b[1;32m---> 15\u001b[0m     retval_ \u001b[39m=\u001b[39m ag__\u001b[39m.\u001b[39mconverted_call(ag__\u001b[39m.\u001b[39mld(step_function), (ag__\u001b[39m.\u001b[39mld(\u001b[39mself\u001b[39m), ag__\u001b[39m.\u001b[39mld(iterator)), \u001b[39mNone\u001b[39;00m, fscope)\n\u001b[0;32m     16\u001b[0m \u001b[39mexcept\u001b[39;00m:\n\u001b[0;32m     17\u001b[0m     do_return \u001b[39m=\u001b[39m \u001b[39mFalse\u001b[39;00m\n",
      "File \u001b[1;32m~\\AppData\\Local\\Temp\\__autograph_generated_filea3znfh4h.py:10\u001b[0m, in \u001b[0;36mouter_factory.<locals>.inner_factory.<locals>.tf__call\u001b[1;34m(self, inputs, **kwargs)\u001b[0m\n\u001b[0;32m      8\u001b[0m do_return \u001b[39m=\u001b[39m \u001b[39mFalse\u001b[39;00m\n\u001b[0;32m      9\u001b[0m retval_ \u001b[39m=\u001b[39m ag__\u001b[39m.\u001b[39mUndefinedReturnValue()\n\u001b[1;32m---> 10\u001b[0m sequence_output, pooled_output \u001b[39m=\u001b[39m ag__\u001b[39m.\u001b[39;49mconverted_call(ag__\u001b[39m.\u001b[39;49mld(\u001b[39mself\u001b[39;49m)\u001b[39m.\u001b[39;49mbert, (ag__\u001b[39m.\u001b[39;49mld(inputs),), \u001b[39mdict\u001b[39;49m(\u001b[39m*\u001b[39;49m\u001b[39m*\u001b[39;49mag__\u001b[39m.\u001b[39;49mld(kwargs)), fscope)\n\u001b[0;32m     11\u001b[0m pooled_output \u001b[39m=\u001b[39m ag__\u001b[39m.\u001b[39mconverted_call(ag__\u001b[39m.\u001b[39mld(\u001b[39mself\u001b[39m)\u001b[39m.\u001b[39mdropout, (ag__\u001b[39m.\u001b[39mld(pooled_output),), \u001b[39mdict\u001b[39m(training\u001b[39m=\u001b[39mag__\u001b[39m.\u001b[39mconverted_call(ag__\u001b[39m.\u001b[39mld(kwargs)\u001b[39m.\u001b[39mget, (\u001b[39m'\u001b[39m\u001b[39mtraining\u001b[39m\u001b[39m'\u001b[39m, \u001b[39mFalse\u001b[39;00m), \u001b[39mNone\u001b[39;00m, fscope)), fscope)\n\u001b[0;32m     12\u001b[0m intent_logits \u001b[39m=\u001b[39m ag__\u001b[39m.\u001b[39mconverted_call(ag__\u001b[39m.\u001b[39mld(\u001b[39mself\u001b[39m)\u001b[39m.\u001b[39mintent_classifier, (ag__\u001b[39m.\u001b[39mld(pooled_output),), \u001b[39mNone\u001b[39;00m, fscope)\n",
      "File \u001b[1;32m~\\AppData\\Local\\Temp\\__autograph_generated_filer7l1kwla.py:37\u001b[0m, in \u001b[0;36mouter_factory.<locals>.inner_factory.<locals>.tf__run_call_with_unpacked_inputs\u001b[1;34m(self, *args, **kwargs)\u001b[0m\n\u001b[0;32m     35\u001b[0m \u001b[39mtry\u001b[39;00m:\n\u001b[0;32m     36\u001b[0m     do_return \u001b[39m=\u001b[39m \u001b[39mTrue\u001b[39;00m\n\u001b[1;32m---> 37\u001b[0m     retval_ \u001b[39m=\u001b[39m ag__\u001b[39m.\u001b[39mconverted_call(ag__\u001b[39m.\u001b[39mld(func), (ag__\u001b[39m.\u001b[39mld(\u001b[39mself\u001b[39m),), \u001b[39mdict\u001b[39m(\u001b[39m*\u001b[39m\u001b[39m*\u001b[39mag__\u001b[39m.\u001b[39mld(unpacked_inputs)), fscope)\n\u001b[0;32m     38\u001b[0m \u001b[39mexcept\u001b[39;00m:\n\u001b[0;32m     39\u001b[0m     do_return \u001b[39m=\u001b[39m \u001b[39mFalse\u001b[39;00m\n",
      "\u001b[1;31mTypeError\u001b[0m: in user code:\n\n    File \"c:\\Users\\neusv\\OneDrive\\Documentos\\EMAI UPF\\NATURAL LENGUAGE INTERACTION\\Project ChatBot\\NLP-Chat-Bot-project\\env\\Lib\\site-packages\\keras\\src\\engine\\training.py\", line 1377, in train_function  *\n        return step_function(self, iterator)\n    File \"c:\\Users\\neusv\\OneDrive\\Documentos\\EMAI UPF\\NATURAL LENGUAGE INTERACTION\\Project ChatBot\\NLP-Chat-Bot-project\\env\\Lib\\site-packages\\keras\\src\\engine\\training.py\", line 1360, in step_function  **\n        outputs = model.distribute_strategy.run(run_step, args=(data,))\n    File \"c:\\Users\\neusv\\OneDrive\\Documentos\\EMAI UPF\\NATURAL LENGUAGE INTERACTION\\Project ChatBot\\NLP-Chat-Bot-project\\env\\Lib\\site-packages\\keras\\src\\engine\\training.py\", line 1349, in run_step  **\n        outputs = model.train_step(data)\n    File \"c:\\Users\\neusv\\OneDrive\\Documentos\\EMAI UPF\\NATURAL LENGUAGE INTERACTION\\Project ChatBot\\NLP-Chat-Bot-project\\env\\Lib\\site-packages\\keras\\src\\engine\\training.py\", line 1126, in train_step\n        y_pred = self(x, training=True)\n    File \"c:\\Users\\neusv\\OneDrive\\Documentos\\EMAI UPF\\NATURAL LENGUAGE INTERACTION\\Project ChatBot\\NLP-Chat-Bot-project\\env\\Lib\\site-packages\\keras\\src\\utils\\traceback_utils.py\", line 70, in error_handler\n        raise e.with_traceback(filtered_tb) from None\n    File \"C:\\Users\\neusv\\AppData\\Local\\Temp\\__autograph_generated_filea3znfh4h.py\", line 10, in tf__call\n        sequence_output, pooled_output = ag__.converted_call(ag__.ld(self).bert, (ag__.ld(inputs),), dict(**ag__.ld(kwargs)), fscope)\n    File \"C:\\Users\\neusv\\AppData\\Local\\Temp\\__autograph_generated_filer7l1kwla.py\", line 40, in tf__run_call_with_unpacked_inputs\n        raise\n\n    TypeError: Exception encountered when calling layer 'joint_intent_slot' (type IntentClassificationModel).\n    \n    in user code:\n    \n        File \"C:\\Users\\neusv\\AppData\\Local\\Temp\\ipykernel_60960\\298034465.py\", line 29, in call  *\n            sequence_output, pooled_output = self.bert(inputs, **kwargs)\n        File \"c:\\Users\\neusv\\OneDrive\\Documentos\\EMAI UPF\\NATURAL LENGUAGE INTERACTION\\Project ChatBot\\NLP-Chat-Bot-project\\env\\Lib\\site-packages\\keras\\src\\utils\\traceback_utils.py\", line 70, in error_handler  **\n            raise e.with_traceback(filtered_tb) from None\n        File \"C:\\Users\\neusv\\AppData\\Local\\Temp\\__autograph_generated_filer7l1kwla.py\", line 40, in tf__run_call_with_unpacked_inputs\n            raise\n    \n        TypeError: Exception encountered when calling layer 'tf_bert_model_1' (type TFBertModel).\n        \n        in user code:\n        \n            File \"c:\\Users\\neusv\\OneDrive\\Documentos\\EMAI UPF\\NATURAL LENGUAGE INTERACTION\\Project ChatBot\\NLP-Chat-Bot-project\\env\\Lib\\site-packages\\transformers\\modeling_tf_utils.py\", line 1061, in run_call_with_unpacked_inputs  *\n                return func(self, **unpacked_inputs)\n        \n            TypeError: outer_factory.<locals>.inner_factory.<locals>.tf__call() got an unexpected keyword argument 'attention_masks'\n        \n        \n        Call arguments received by layer 'tf_bert_model_1' (type TFBertModel):\n          • input_ids={'input_ids': 'tf.Tensor(shape=(None, 90), dtype=int32)', 'attention_masks': 'tf.Tensor(shape=(None, 90), dtype=int32)'}\n          • attention_mask=None\n          • token_type_ids=None\n          • position_ids=None\n          • head_mask=None\n          • inputs_embeds=None\n          • encoder_hidden_states=None\n          • encoder_attention_mask=None\n          • past_key_values=None\n          • use_cache=None\n          • output_attentions=None\n          • output_hidden_states=None\n          • return_dict=None\n          • training=True\n    \n    \n    Call arguments received by layer 'joint_intent_slot' (type IntentClassificationModel):\n      • inputs={'input_ids': 'tf.Tensor(shape=(None, 90), dtype=int32)', 'attention_masks': 'tf.Tensor(shape=(None, 90), dtype=int32)'}\n      • kwargs={'training': 'True'}\n"
     ]
    }
   ],
   "source": [
    "# Train the model\n",
    "#Probably we need to add ['inputs_id'] to the data\n",
    "history = intent_model.fit(encoded_train, intent_train,\n",
    "                           epochs=2, batch_size=32,\n",
    "                           validation_data=(encoded_validation, intent_validation))"
   ]
  },
  {
   "cell_type": "code",
   "execution_count": 46,
   "metadata": {},
   "outputs": [],
   "source": [
    "def classify(text, tokenizerzer, model, intent_names):\n",
    "    inputs = tf.constant(tokenizer.encode(text))[None, :] # Batch size = 1\n",
    "    class_id = model(inputs).numpy().argmax(axis=1)[0]\n",
    "    return intent_names[class_id]"
   ]
  },
  {
   "cell_type": "code",
   "execution_count": 47,
   "metadata": {},
   "outputs": [
    {
     "ename": "ValueError",
     "evalue": "Exception encountered when calling layer 'joint_intent_slot' (type IntentClassificationModel).\n\nInput 0 of layer \"dense\" is incompatible with the layer: expected min_ndim=2, found ndim=0. Full shape received: ()\n\nCall arguments received by layer 'joint_intent_slot' (type IntentClassificationModel):\n  • inputs=tf.Tensor(shape=(1, 9), dtype=int32)\n  • kwargs={'training': 'None'}",
     "output_type": "error",
     "traceback": [
      "\u001b[1;31m---------------------------------------------------------------------------\u001b[0m",
      "\u001b[1;31mValueError\u001b[0m                                Traceback (most recent call last)",
      "\u001b[1;32mc:\\Users\\neusv\\OneDrive\\Documentos\\EMAI UPF\\NATURAL LENGUAGE INTERACTION\\Project ChatBot\\NLP-Chat-Bot-project\\slot_filling.ipynb Celda 28\u001b[0m line \u001b[0;36m2\n\u001b[0;32m      <a href='vscode-notebook-cell:/c%3A/Users/neusv/OneDrive/Documentos/EMAI%20UPF/NATURAL%20LENGUAGE%20INTERACTION/Project%20ChatBot/NLP-Chat-Bot-project/slot_filling.ipynb#X36sZmlsZQ%3D%3D?line=0'>1</a>\u001b[0m \u001b[39m# Example of classification\u001b[39;00m\n\u001b[1;32m----> <a href='vscode-notebook-cell:/c%3A/Users/neusv/OneDrive/Documentos/EMAI%20UPF/NATURAL%20LENGUAGE%20INTERACTION/Project%20ChatBot/NLP-Chat-Bot-project/slot_filling.ipynb#X36sZmlsZQ%3D%3D?line=1'>2</a>\u001b[0m classify(\u001b[39m'\u001b[39;49m\u001b[39mWill it snow tomorrow in Paris?\u001b[39;49m\u001b[39m'\u001b[39;49m,\n\u001b[0;32m      <a href='vscode-notebook-cell:/c%3A/Users/neusv/OneDrive/Documentos/EMAI%20UPF/NATURAL%20LENGUAGE%20INTERACTION/Project%20ChatBot/NLP-Chat-Bot-project/slot_filling.ipynb#X36sZmlsZQ%3D%3D?line=2'>3</a>\u001b[0m          tokenizer, intent_model, intent_names)\n",
      "\u001b[1;32mc:\\Users\\neusv\\OneDrive\\Documentos\\EMAI UPF\\NATURAL LENGUAGE INTERACTION\\Project ChatBot\\NLP-Chat-Bot-project\\slot_filling.ipynb Celda 28\u001b[0m line \u001b[0;36m3\n\u001b[0;32m      <a href='vscode-notebook-cell:/c%3A/Users/neusv/OneDrive/Documentos/EMAI%20UPF/NATURAL%20LENGUAGE%20INTERACTION/Project%20ChatBot/NLP-Chat-Bot-project/slot_filling.ipynb#X36sZmlsZQ%3D%3D?line=0'>1</a>\u001b[0m \u001b[39mdef\u001b[39;00m \u001b[39mclassify\u001b[39m(text, tokenizerzer, model, intent_names):\n\u001b[0;32m      <a href='vscode-notebook-cell:/c%3A/Users/neusv/OneDrive/Documentos/EMAI%20UPF/NATURAL%20LENGUAGE%20INTERACTION/Project%20ChatBot/NLP-Chat-Bot-project/slot_filling.ipynb#X36sZmlsZQ%3D%3D?line=1'>2</a>\u001b[0m     inputs \u001b[39m=\u001b[39m tf\u001b[39m.\u001b[39mconstant(tokenizer\u001b[39m.\u001b[39mencode(text))[\u001b[39mNone\u001b[39;00m, :] \u001b[39m# Batch size = 1\u001b[39;00m\n\u001b[1;32m----> <a href='vscode-notebook-cell:/c%3A/Users/neusv/OneDrive/Documentos/EMAI%20UPF/NATURAL%20LENGUAGE%20INTERACTION/Project%20ChatBot/NLP-Chat-Bot-project/slot_filling.ipynb#X36sZmlsZQ%3D%3D?line=2'>3</a>\u001b[0m     class_id \u001b[39m=\u001b[39m model(inputs)\u001b[39m.\u001b[39mnumpy()\u001b[39m.\u001b[39margmax(axis\u001b[39m=\u001b[39m\u001b[39m1\u001b[39m)[\u001b[39m0\u001b[39m]\n\u001b[0;32m      <a href='vscode-notebook-cell:/c%3A/Users/neusv/OneDrive/Documentos/EMAI%20UPF/NATURAL%20LENGUAGE%20INTERACTION/Project%20ChatBot/NLP-Chat-Bot-project/slot_filling.ipynb#X36sZmlsZQ%3D%3D?line=3'>4</a>\u001b[0m     \u001b[39mreturn\u001b[39;00m intent_names[class_id]\n",
      "File \u001b[1;32mc:\\Users\\neusv\\OneDrive\\Documentos\\EMAI UPF\\NATURAL LENGUAGE INTERACTION\\Project ChatBot\\NLP-Chat-Bot-project\\env\\Lib\\site-packages\\keras\\src\\utils\\traceback_utils.py:70\u001b[0m, in \u001b[0;36mfilter_traceback.<locals>.error_handler\u001b[1;34m(*args, **kwargs)\u001b[0m\n\u001b[0;32m     67\u001b[0m     filtered_tb \u001b[39m=\u001b[39m _process_traceback_frames(e\u001b[39m.\u001b[39m__traceback__)\n\u001b[0;32m     68\u001b[0m     \u001b[39m# To get the full stack trace, call:\u001b[39;00m\n\u001b[0;32m     69\u001b[0m     \u001b[39m# `tf.debugging.disable_traceback_filtering()`\u001b[39;00m\n\u001b[1;32m---> 70\u001b[0m     \u001b[39mraise\u001b[39;00m e\u001b[39m.\u001b[39mwith_traceback(filtered_tb) \u001b[39mfrom\u001b[39;00m \u001b[39mNone\u001b[39;00m\n\u001b[0;32m     71\u001b[0m \u001b[39mfinally\u001b[39;00m:\n\u001b[0;32m     72\u001b[0m     \u001b[39mdel\u001b[39;00m filtered_tb\n",
      "\u001b[1;32mc:\\Users\\neusv\\OneDrive\\Documentos\\EMAI UPF\\NATURAL LENGUAGE INTERACTION\\Project ChatBot\\NLP-Chat-Bot-project\\slot_filling.ipynb Celda 28\u001b[0m line \u001b[0;36m3\n\u001b[0;32m     <a href='vscode-notebook-cell:/c%3A/Users/neusv/OneDrive/Documentos/EMAI%20UPF/NATURAL%20LENGUAGE%20INTERACTION/Project%20ChatBot/NLP-Chat-Bot-project/slot_filling.ipynb#X36sZmlsZQ%3D%3D?line=34'>35</a>\u001b[0m pooled_output \u001b[39m=\u001b[39m \u001b[39mself\u001b[39m\u001b[39m.\u001b[39mdropout(pooled_output, training\u001b[39m=\u001b[39mkwargs\u001b[39m.\u001b[39mget(\u001b[39m'\u001b[39m\u001b[39mtraining\u001b[39m\u001b[39m'\u001b[39m, \u001b[39mFalse\u001b[39;00m))\n\u001b[0;32m     <a href='vscode-notebook-cell:/c%3A/Users/neusv/OneDrive/Documentos/EMAI%20UPF/NATURAL%20LENGUAGE%20INTERACTION/Project%20ChatBot/NLP-Chat-Bot-project/slot_filling.ipynb#X36sZmlsZQ%3D%3D?line=36'>37</a>\u001b[0m \u001b[39m# Use the classifier layer to compute the logits from the\u001b[39;00m\n\u001b[0;32m     <a href='vscode-notebook-cell:/c%3A/Users/neusv/OneDrive/Documentos/EMAI%20UPF/NATURAL%20LENGUAGE%20INTERACTION/Project%20ChatBot/NLP-Chat-Bot-project/slot_filling.ipynb#X36sZmlsZQ%3D%3D?line=37'>38</a>\u001b[0m \u001b[39m# pooled features.\u001b[39;00m\n\u001b[1;32m---> <a href='vscode-notebook-cell:/c%3A/Users/neusv/OneDrive/Documentos/EMAI%20UPF/NATURAL%20LENGUAGE%20INTERACTION/Project%20ChatBot/NLP-Chat-Bot-project/slot_filling.ipynb#X36sZmlsZQ%3D%3D?line=38'>39</a>\u001b[0m intent_logits \u001b[39m=\u001b[39m \u001b[39mself\u001b[39;49m\u001b[39m.\u001b[39;49mintent_classifier(pooled_output)\n\u001b[0;32m     <a href='vscode-notebook-cell:/c%3A/Users/neusv/OneDrive/Documentos/EMAI%20UPF/NATURAL%20LENGUAGE%20INTERACTION/Project%20ChatBot/NLP-Chat-Bot-project/slot_filling.ipynb#X36sZmlsZQ%3D%3D?line=39'>40</a>\u001b[0m \u001b[39mreturn\u001b[39;00m intent_logits\n",
      "\u001b[1;31mValueError\u001b[0m: Exception encountered when calling layer 'joint_intent_slot' (type IntentClassificationModel).\n\nInput 0 of layer \"dense\" is incompatible with the layer: expected min_ndim=2, found ndim=0. Full shape received: ()\n\nCall arguments received by layer 'joint_intent_slot' (type IntentClassificationModel):\n  • inputs=tf.Tensor(shape=(1, 9), dtype=int32)\n  • kwargs={'training': 'None'}"
     ]
    }
   ],
   "source": [
    "# Example of classification\n",
    "classify('Can I book a table for 2?',\n",
    "         tokenizer, intent_model, intent_names)"
   ]
  },
  {
   "cell_type": "code",
   "execution_count": 51,
   "metadata": {},
   "outputs": [
    {
     "name": "stdout",
     "output_type": "stream",
     "text": [
      "Requirement already satisfied: pathlib in c:\\users\\neusv\\onedrive\\documentos\\emai upf\\natural lenguage interaction\\project chatbot\\nlp-chat-bot-project\\env\\lib\\site-packages (1.0.1)\n"
     ]
    },
    {
     "name": "stderr",
     "output_type": "stream",
     "text": [
      "\n",
      "[notice] A new release of pip available: 22.3.1 -> 23.3.1\n",
      "[notice] To update, run: python.exe -m pip install --upgrade pip\n"
     ]
    }
   ],
   "source": [
    "!pip install pathlib\n",
    "from pathlib import Path\n",
    "from transformers import BertTokenizer, TFBertModel\n",
    "from urllib.request import urlretrieve\n"
   ]
  },
  {
   "cell_type": "code",
   "execution_count": 67,
   "metadata": {},
   "outputs": [
    {
     "data": {
      "text/plain": [
       "['O', 'O', 'O', 'O', 'restaurant-pricerange', 'O']"
      ]
     },
     "execution_count": 67,
     "metadata": {},
     "output_type": "execute_result"
    }
   ],
   "source": [
    "df_train['words_label'][i]"
   ]
  },
  {
   "cell_type": "markdown",
   "metadata": {},
   "source": [
    "## Join intent classification and slot filling\n",
    "Let's now refine our natural language understanding system by trying to retrieve the important structured elements of each voice command. To do so, we will perform word level (or token level) classification of the BIO labels. Since we have word level tags but BERT uses a wordpiece tokenizer, we need to align the BIO labels with the BERT tokens. Let's load the list of possible word token labels and augment it with an additional padding label to be able to ignore special tokens."
   ]
  },
  {
   "cell_type": "code",
   "execution_count": 80,
   "metadata": {},
   "outputs": [
    {
     "data": {
      "text/plain": [
       "{'restaurant-pricerange': 0,\n",
       " 'restaurant-bookpeople': 1,\n",
       " 'restaurant-booktime': 2,\n",
       " 'taxi-arriveby': 3,\n",
       " 'train-day': 4,\n",
       " 'train-arriveby': 5,\n",
       " 'restaurant-food': 6,\n",
       " 'train-destination': 7,\n",
       " 'train-bookpeople': 8,\n",
       " 'taxi-destination': 9,\n",
       " 'hotel-pricerange': 10,\n",
       " 'hotel-area': 11,\n",
       " 'restaurant-area': 12,\n",
       " 'attraction-type': 13,\n",
       " 'restaurant-bookday': 14,\n",
       " 'hotel-type': 15,\n",
       " 'hotel-stars': 16,\n",
       " 'attraction-area': 17,\n",
       " 'taxi-leaveat': 18,\n",
       " 'hotel-bookpeople': 19,\n",
       " 'hotel-bookstay': 20,\n",
       " 'hotel-bookday': 21,\n",
       " 'train-departure': 22,\n",
       " 'train-leaveat': 23,\n",
       " 'restaurant-name': 24,\n",
       " 'hotel-name': 25,\n",
       " 'hospital-department': 26,\n",
       " 'taxi-departure': 27,\n",
       " 'hotel-internet': 28,\n",
       " 'hotel-parking': 29,\n",
       " 'attraction-name': 30,\n",
       " 'bus-destination': 31}"
      ]
     },
     "execution_count": 80,
     "metadata": {},
     "output_type": "execute_result"
    }
   ],
   "source": [
    "#data\n",
    "slot_names = []\n",
    "\n",
    "for i in range(len(df_train)):\n",
    "    for j in range(len(df_train['words_label'][i])):\n",
    "        item = df_train['words_label'][i][j]\n",
    "        if  item != 'O' and item not in slot_names:\n",
    "            slot_names.append(item)\n",
    "\n",
    "slot_map = dict({slot: index for index, slot in enumerate(slot_names)})\n",
    "slot_map"
   ]
  },
  {
   "cell_type": "code",
   "execution_count": 74,
   "metadata": {},
   "outputs": [],
   "source": [
    "def encode_token_labels(text_sequences, slot_names, tokenizer, slot_map, max_length):\n",
    "    encoded = np.zeros(shape=(len(text_sequences), max_length), dtype=np.int32)\n",
    "    for i, (text_sequence, word_labels) in enumerate(\n",
    "            zip(text_sequences, slot_names)):\n",
    "        encoded_labels = []\n",
    "        for word, word_label in zip(text_sequence.split(), word_labels.split()):\n",
    "            tokens = tokenizer.tokenize(word)\n",
    "            encoded_labels.append(slot_map[word_label])\n",
    "            expand_label = word_label.replace(\"B-\", \"I-\")\n",
    "            if not expand_label in slot_map:\n",
    "                expand_label = word_label\n",
    "            encoded_labels.extend([slot_map[expand_label]] * (len(tokens) - 1))\n",
    "        encoded[i, 1:len(encoded_labels) + 1] = encoded_labels\n",
    "    return encoded"
   ]
  },
  {
   "cell_type": "code",
   "execution_count": 81,
   "metadata": {},
   "outputs": [
    {
     "ename": "AttributeError",
     "evalue": "'list' object has no attribute 'split'",
     "output_type": "error",
     "traceback": [
      "\u001b[1;31m---------------------------------------------------------------------------\u001b[0m",
      "\u001b[1;31mAttributeError\u001b[0m                            Traceback (most recent call last)",
      "\u001b[1;32mc:\\Users\\neusv\\OneDrive\\Documentos\\EMAI UPF\\NATURAL LENGUAGE INTERACTION\\Project ChatBot\\NLP-Chat-Bot-project\\slot_filling.ipynb Celda 33\u001b[0m line \u001b[0;36m1\n\u001b[1;32m----> <a href='vscode-notebook-cell:/c%3A/Users/neusv/OneDrive/Documentos/EMAI%20UPF/NATURAL%20LENGUAGE%20INTERACTION/Project%20ChatBot/NLP-Chat-Bot-project/slot_filling.ipynb#X44sZmlsZQ%3D%3D?line=0'>1</a>\u001b[0m slot_train \u001b[39m=\u001b[39m encode_token_labels(df_train[\u001b[39m'\u001b[39;49m\u001b[39mwords\u001b[39;49m\u001b[39m'\u001b[39;49m], df_train[\u001b[39m'\u001b[39;49m\u001b[39mwords_label\u001b[39;49m\u001b[39m'\u001b[39;49m], tokenizer, slot_map, \u001b[39m45\u001b[39;49m)\n\u001b[0;32m      <a href='vscode-notebook-cell:/c%3A/Users/neusv/OneDrive/Documentos/EMAI%20UPF/NATURAL%20LENGUAGE%20INTERACTION/Project%20ChatBot/NLP-Chat-Bot-project/slot_filling.ipynb#X44sZmlsZQ%3D%3D?line=1'>2</a>\u001b[0m slot_validation \u001b[39m=\u001b[39m encode_token_labels(df_validation[\u001b[39m'\u001b[39m\u001b[39mwords\u001b[39m\u001b[39m'\u001b[39m], df_validation[\u001b[39m'\u001b[39m\u001b[39mwords_label\u001b[39m\u001b[39m'\u001b[39m], tokenizer, slot_map, \u001b[39m45\u001b[39m)\n\u001b[0;32m      <a href='vscode-notebook-cell:/c%3A/Users/neusv/OneDrive/Documentos/EMAI%20UPF/NATURAL%20LENGUAGE%20INTERACTION/Project%20ChatBot/NLP-Chat-Bot-project/slot_filling.ipynb#X44sZmlsZQ%3D%3D?line=2'>3</a>\u001b[0m slot_test \u001b[39m=\u001b[39m encode_token_labels(df_test[\u001b[39m'\u001b[39m\u001b[39mwords\u001b[39m\u001b[39m'\u001b[39m], df_test[\u001b[39m'\u001b[39m\u001b[39mwords_label\u001b[39m\u001b[39m'\u001b[39m], tokenizer, slot_map, \u001b[39m45\u001b[39m)\n",
      "\u001b[1;32mc:\\Users\\neusv\\OneDrive\\Documentos\\EMAI UPF\\NATURAL LENGUAGE INTERACTION\\Project ChatBot\\NLP-Chat-Bot-project\\slot_filling.ipynb Celda 33\u001b[0m line \u001b[0;36m6\n\u001b[0;32m      <a href='vscode-notebook-cell:/c%3A/Users/neusv/OneDrive/Documentos/EMAI%20UPF/NATURAL%20LENGUAGE%20INTERACTION/Project%20ChatBot/NLP-Chat-Bot-project/slot_filling.ipynb#X44sZmlsZQ%3D%3D?line=2'>3</a>\u001b[0m \u001b[39mfor\u001b[39;00m i, (text_sequence, word_labels) \u001b[39min\u001b[39;00m \u001b[39menumerate\u001b[39m(\n\u001b[0;32m      <a href='vscode-notebook-cell:/c%3A/Users/neusv/OneDrive/Documentos/EMAI%20UPF/NATURAL%20LENGUAGE%20INTERACTION/Project%20ChatBot/NLP-Chat-Bot-project/slot_filling.ipynb#X44sZmlsZQ%3D%3D?line=3'>4</a>\u001b[0m         \u001b[39mzip\u001b[39m(text_sequences, slot_names)):\n\u001b[0;32m      <a href='vscode-notebook-cell:/c%3A/Users/neusv/OneDrive/Documentos/EMAI%20UPF/NATURAL%20LENGUAGE%20INTERACTION/Project%20ChatBot/NLP-Chat-Bot-project/slot_filling.ipynb#X44sZmlsZQ%3D%3D?line=4'>5</a>\u001b[0m     encoded_labels \u001b[39m=\u001b[39m []\n\u001b[1;32m----> <a href='vscode-notebook-cell:/c%3A/Users/neusv/OneDrive/Documentos/EMAI%20UPF/NATURAL%20LENGUAGE%20INTERACTION/Project%20ChatBot/NLP-Chat-Bot-project/slot_filling.ipynb#X44sZmlsZQ%3D%3D?line=5'>6</a>\u001b[0m     \u001b[39mfor\u001b[39;00m word, word_label \u001b[39min\u001b[39;00m \u001b[39mzip\u001b[39m(text_sequence\u001b[39m.\u001b[39msplit(), word_labels\u001b[39m.\u001b[39;49msplit()):\n\u001b[0;32m      <a href='vscode-notebook-cell:/c%3A/Users/neusv/OneDrive/Documentos/EMAI%20UPF/NATURAL%20LENGUAGE%20INTERACTION/Project%20ChatBot/NLP-Chat-Bot-project/slot_filling.ipynb#X44sZmlsZQ%3D%3D?line=6'>7</a>\u001b[0m         tokens \u001b[39m=\u001b[39m tokenizer\u001b[39m.\u001b[39mtokenize(word)\n\u001b[0;32m      <a href='vscode-notebook-cell:/c%3A/Users/neusv/OneDrive/Documentos/EMAI%20UPF/NATURAL%20LENGUAGE%20INTERACTION/Project%20ChatBot/NLP-Chat-Bot-project/slot_filling.ipynb#X44sZmlsZQ%3D%3D?line=7'>8</a>\u001b[0m         encoded_labels\u001b[39m.\u001b[39mappend(slot_map[word_label])\n",
      "\u001b[1;31mAttributeError\u001b[0m: 'list' object has no attribute 'split'"
     ]
    }
   ],
   "source": [
    "slot_train = encode_token_labels(df_train['words'], df_train['words_label'], tokenizer, slot_map, 45)\n",
    "slot_validation = encode_token_labels(df_validation['words'], df_validation['words_label'], tokenizer, slot_map, 45)\n",
    "slot_test = encode_token_labels(df_test['words'], df_test['words_label'], tokenizer, slot_map, 45)"
   ]
  },
  {
   "cell_type": "code",
   "execution_count": 84,
   "metadata": {},
   "outputs": [
    {
     "ename": "NameError",
     "evalue": "name 'slot_train' is not defined",
     "output_type": "error",
     "traceback": [
      "\u001b[1;31m---------------------------------------------------------------------------\u001b[0m",
      "\u001b[1;31mNameError\u001b[0m                                 Traceback (most recent call last)",
      "\u001b[1;32mc:\\Users\\neusv\\OneDrive\\Documentos\\EMAI UPF\\NATURAL LENGUAGE INTERACTION\\Project ChatBot\\NLP-Chat-Bot-project\\slot_filling.ipynb Celda 34\u001b[0m line \u001b[0;36m1\n\u001b[1;32m----> <a href='vscode-notebook-cell:/c%3A/Users/neusv/OneDrive/Documentos/EMAI%20UPF/NATURAL%20LENGUAGE%20INTERACTION/Project%20ChatBot/NLP-Chat-Bot-project/slot_filling.ipynb#X46sZmlsZQ%3D%3D?line=0'>1</a>\u001b[0m slot_train\n",
      "\u001b[1;31mNameError\u001b[0m: name 'slot_train' is not defined"
     ]
    }
   ],
   "source": [
    "# Define JointIntentAndSlotFilling model\n",
    "class JointIntentAndSlotFillingModel(tf.keras.Model):\n",
    "\n",
    "    def __init__(self, intent_num_labels=None, slot_num_labels=None,\n",
    "                 model_name=\"bert-base-cased\", dropout_prob=0.1):\n",
    "        super().__init__(name=\"joint_intent_slot\")\n",
    "        self.bert = TFBertModel.from_pretrained(model_name)\n",
    "        self.dropout = Dropout(dropout_prob)\n",
    "        self.intent_classifier = Dense(intent_num_labels,\n",
    "                                       name=\"intent_classifier\")\n",
    "        self.slot_classifier = Dense(slot_num_labels,\n",
    "                                     name=\"slot_classifier\")\n",
    "\n",
    "    def call(self, inputs, **kwargs):\n",
    "        sequence_output, pooled_output = self.bert(inputs, **kwargs)\n",
    "\n",
    "        # The first output of the main BERT layer has shape:\n",
    "        # (batch_size, max_length, output_dim)\n",
    "        sequence_output = self.dropout(sequence_output,\n",
    "                                       training=kwargs.get(\"training\", False))\n",
    "        slot_logits = self.slot_classifier(sequence_output)\n",
    "\n",
    "        # The second output of the main BERT layer has shape:\n",
    "        # (batch_size, output_dim)\n",
    "        # and gives a \"pooled\" representation for the full sequence from the\n",
    "        # hidden state that corresponds to the \"[CLS]\" token.\n",
    "        pooled_output = self.dropout(pooled_output,\n",
    "                                     training=kwargs.get(\"training\", False))\n",
    "        intent_logits = self.intent_classifier(pooled_output)\n",
    "\n",
    "        return slot_logits, intent_logits\n"
   ]
  },
  {
   "cell_type": "code",
   "execution_count": null,
   "metadata": {},
   "outputs": [],
   "source": [
    "joint_model = JointIntentAndSlotFillingModel(\n",
    "    intent_num_labels=len(intent_map), slot_num_labels=len(slot_map))\n",
    "\n",
    "# Define one classification loss for each output:\n",
    "opt = Adam(learning_rate=3e-5, epsilon=1e-08)\n",
    "losses = [SparseCategoricalCrossentropy(from_logits=True),\n",
    "          SparseCategoricalCrossentropy(from_logits=True)]\n",
    "metrics = [SparseCategoricalAccuracy('accuracy')]\n",
    "joint_model.compile(optimizer=opt, loss=losses, metrics=metrics)"
   ]
  },
  {
   "cell_type": "code",
   "execution_count": null,
   "metadata": {},
   "outputs": [],
   "source": [
    "history = joint_model.fit(\n",
    "    encoded_train, (slot_train, intent_train),\n",
    "    validation_data=(encoded_validation, (slot_validation, intent_validation)),\n",
    "    epochs=2, batch_size=32)"
   ]
  },
  {
   "cell_type": "code",
   "execution_count": null,
   "metadata": {},
   "outputs": [],
   "source": [
    "def show_predictions(text, tokenizer, model, intent_names, slot_names):\n",
    "    inputs = tf.constant(tokenizer.encode(text))[None, :]  # batch_size = 1\n",
    "    outputs = model(inputs)\n",
    "    slot_logits, intent_logits = outputs\n",
    "    slot_ids = slot_logits.numpy().argmax(axis=-1)[0, 1:-1]\n",
    "    intent_id = intent_logits.numpy().argmax(axis=-1)[0]\n",
    "    print(\"## Intent:\", intent_names[intent_id])\n",
    "    print(\"## Slots:\")\n",
    "    for token, slot_id in zip(tokenizer.tokenize(text), slot_ids):\n",
    "        print(f\"{token:>10} : {slot_names[slot_id]}\")"
   ]
  },
  {
   "cell_type": "markdown",
   "metadata": {},
   "source": [
    "## EXAMPLE OF PREDICTION"
   ]
  },
  {
   "cell_type": "code",
   "execution_count": null,
   "metadata": {},
   "outputs": [],
   "source": [
    "show_predictions('Will it snow tomorrow in Paris?',\n",
    "                 tokenizer, joint_model, intent_names, slot_names)"
   ]
  },
  {
   "cell_type": "markdown",
   "metadata": {},
   "source": [
    "## Decoding predictions into structured knowledge\n",
    "For completeness, here a minimal functional to naively decode the predicted BIO slot ids and convert it into a structured representation for the detected slots as a Python dictionaries."
   ]
  },
  {
   "cell_type": "code",
   "execution_count": null,
   "metadata": {},
   "outputs": [],
   "source": [
    "def decode_predictions(text, tokenizer, intent_names, slot_names,\n",
    "                       intent_id, slot_ids):\n",
    "    info = {\"intent\": intent_names[intent_id]}\n",
    "    collected_slots = {}\n",
    "    active_slot_words = []\n",
    "    active_slot_name = None\n",
    "    for word in text.split():\n",
    "        tokens = tokenizer.tokenize(word)\n",
    "        current_word_slot_ids = slot_ids[:len(tokens)]\n",
    "        slot_ids = slot_ids[len(tokens):]\n",
    "        current_word_slot_name = slot_names[current_word_slot_ids[0]]\n",
    "        if current_word_slot_name == \"O\":\n",
    "            if active_slot_name:\n",
    "                collected_slots[active_slot_name] = \" \".join(active_slot_words)\n",
    "                active_slot_words = []\n",
    "                active_slot_name = None\n",
    "        else:\n",
    "            # Naive BIO: handling: treat B- and I- the same...\n",
    "            new_slot_name = current_word_slot_name[2:]\n",
    "            if active_slot_name is None:\n",
    "                active_slot_words.append(word)\n",
    "                active_slot_name = new_slot_name\n",
    "            elif new_slot_name == active_slot_name:\n",
    "                active_slot_words.append(word)\n",
    "            else:\n",
    "                collected_slots[active_slot_name] = \" \".join(active_slot_words)\n",
    "                active_slot_words = [word]\n",
    "                active_slot_name = new_slot_name\n",
    "    if active_slot_name:\n",
    "        collected_slots[active_slot_name] = \" \".join(active_slot_words)\n",
    "    info[\"slots\"] = collected_slots\n",
    "    return info"
   ]
  },
  {
   "cell_type": "code",
   "execution_count": null,
   "metadata": {},
   "outputs": [],
   "source": [
    "def nlu(text, tokenizer, model, intent_names, slot_names):\n",
    "    inputs = tf.constant(tokenizer.encode(text))[None, :]  # batch_size = 1\n",
    "    outputs = model(inputs)\n",
    "    slot_logits, intent_logits = outputs\n",
    "    slot_ids = slot_logits.numpy().argmax(axis=-1)[0, 1:-1]\n",
    "    intent_id = intent_logits.numpy().argmax(axis=-1)[0]\n",
    "\n",
    "    return decode_predictions(text, tokenizer, intent_names, slot_names,\n",
    "                              intent_id, slot_ids)"
   ]
  },
  {
   "cell_type": "code",
   "execution_count": null,
   "metadata": {},
   "outputs": [],
   "source": [
    "nlu('Will it snow tomorrow in Paris?',\n",
    "                 tokenizer, joint_model, intent_names, slot_names)"
   ]
  },
  {
   "cell_type": "code",
   "execution_count": null,
   "metadata": {},
   "outputs": [],
   "source": [
    "nlu('I would like to listen to Wake me up by Avicii.',\n",
    "    tokenizer, joint_model, intent_names, slot_names)"
   ]
  }
 ],
 "metadata": {
  "kernelspec": {
   "display_name": "env",
   "language": "python",
   "name": "python3"
  },
  "language_info": {
   "codemirror_mode": {
    "name": "ipython",
    "version": 3
   },
   "file_extension": ".py",
   "mimetype": "text/x-python",
   "name": "python",
   "nbconvert_exporter": "python",
   "pygments_lexer": "ipython3",
   "version": "3.11.1"
  }
 },
 "nbformat": 4,
 "nbformat_minor": 2
}
